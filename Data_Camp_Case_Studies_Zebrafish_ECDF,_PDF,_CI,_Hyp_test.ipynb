{
  "nbformat": 4,
  "nbformat_minor": 0,
  "metadata": {
    "colab": {
      "name": "Data Camp Case Studies Zebrafish ECDF, PDF, CI, Hyp test.ipynb",
      "provenance": [],
      "authorship_tag": "ABX9TyOl/NcEZNT0sjDlJFEHvV78",
      "include_colab_link": true
    },
    "kernelspec": {
      "name": "python3",
      "display_name": "Python 3"
    }
  },
  "cells": [
    {
      "cell_type": "markdown",
      "metadata": {
        "id": "view-in-github",
        "colab_type": "text"
      },
      "source": [
        "<a href=\"https://colab.research.google.com/github/Ferrariagustinpablo/Statistic-related-Python/blob/main/Data_Camp_Case_Studies_Zebrafish_ECDF%2C_PDF%2C_CI%2C_Hyp_test.ipynb\" target=\"_parent\"><img src=\"https://colab.research.google.com/assets/colab-badge.svg\" alt=\"Open In Colab\"/></a>"
      ]
    },
    {
      "cell_type": "markdown",
      "metadata": {
        "id": "3YmOnzWJyMcN"
      },
      "source": [
        "# Zebrafish active bout lengths"
      ]
    },
    {
      "cell_type": "markdown",
      "metadata": {
        "id": "X2sIIAqxyJvn"
      },
      "source": [
        "## Importing"
      ]
    },
    {
      "cell_type": "code",
      "metadata": {
        "id": "cBk706cdyB1M"
      },
      "source": [
        "from sklearn import datasets\r\n",
        "import pandas as pd\r\n",
        "import numpy as np\r\n",
        "import matplotlib.pyplot as plt\r\n",
        "import seaborn as sns\r\n",
        "plt.style.use('ggplot')"
      ],
      "execution_count": null,
      "outputs": []
    },
    {
      "cell_type": "code",
      "metadata": {
        "colab": {
          "base_uri": "https://localhost:8080/",
          "height": 221
        },
        "id": "WEYgfiuowxR_",
        "outputId": "4a2cd5c6-e03f-4682-d0ca-2e8db5012a41"
      },
      "source": [
        "link = 'https://assets.datacamp.com/production/repositories/1067/datasets/8885c23f1c156149b736ca2ea0d9b01bbc727ecd/gandhi_et_al_bouts.csv'\r\n",
        "\r\n",
        "fish_df = pd.read_csv(link, skiprows=4).copy()\r\n",
        "print(fish_df.shape)\r\n",
        "fish_df.head()"
      ],
      "execution_count": null,
      "outputs": [
        {
          "output_type": "stream",
          "text": [
            "(5475, 3)\n"
          ],
          "name": "stdout"
        },
        {
          "output_type": "execute_result",
          "data": {
            "text/html": [
              "<div>\n",
              "<style scoped>\n",
              "    .dataframe tbody tr th:only-of-type {\n",
              "        vertical-align: middle;\n",
              "    }\n",
              "\n",
              "    .dataframe tbody tr th {\n",
              "        vertical-align: top;\n",
              "    }\n",
              "\n",
              "    .dataframe thead th {\n",
              "        text-align: right;\n",
              "    }\n",
              "</style>\n",
              "<table border=\"1\" class=\"dataframe\">\n",
              "  <thead>\n",
              "    <tr style=\"text-align: right;\">\n",
              "      <th></th>\n",
              "      <th>genotype</th>\n",
              "      <th>bout_length</th>\n",
              "      <th>fish</th>\n",
              "    </tr>\n",
              "  </thead>\n",
              "  <tbody>\n",
              "    <tr>\n",
              "      <th>0</th>\n",
              "      <td>het</td>\n",
              "      <td>12.00</td>\n",
              "      <td>1</td>\n",
              "    </tr>\n",
              "    <tr>\n",
              "      <th>1</th>\n",
              "      <td>het</td>\n",
              "      <td>33.00</td>\n",
              "      <td>1</td>\n",
              "    </tr>\n",
              "    <tr>\n",
              "      <th>2</th>\n",
              "      <td>het</td>\n",
              "      <td>0.96</td>\n",
              "      <td>1</td>\n",
              "    </tr>\n",
              "    <tr>\n",
              "      <th>3</th>\n",
              "      <td>het</td>\n",
              "      <td>4.98</td>\n",
              "      <td>1</td>\n",
              "    </tr>\n",
              "    <tr>\n",
              "      <th>4</th>\n",
              "      <td>het</td>\n",
              "      <td>1.98</td>\n",
              "      <td>1</td>\n",
              "    </tr>\n",
              "  </tbody>\n",
              "</table>\n",
              "</div>"
            ],
            "text/plain": [
              "  genotype  bout_length  fish\n",
              "0      het        12.00     1\n",
              "1      het        33.00     1\n",
              "2      het         0.96     1\n",
              "3      het         4.98     1\n",
              "4      het         1.98     1"
            ]
          },
          "metadata": {
            "tags": []
          },
          "execution_count": 99
        }
      ]
    },
    {
      "cell_type": "markdown",
      "metadata": {
        "id": "EOLFHgsR85i3"
      },
      "source": [
        "## EDA "
      ]
    },
    {
      "cell_type": "markdown",
      "metadata": {
        "id": "CVxuGTNry4iG"
      },
      "source": [
        "An active bout is a stretch of time where a fish is constantly moving.\r\n",
        "\r\n",
        "Plot an ECDF of active bout length for the mutant and wild type fish for the seventh night of their lives."
      ]
    },
    {
      "cell_type": "code",
      "metadata": {
        "colab": {
          "base_uri": "https://localhost:8080/"
        },
        "id": "SxiDxzYz0f6m",
        "outputId": "d4d55c9c-7454-4c4c-a9df-afc791cec96c"
      },
      "source": [
        "print(fish_df.genotype.unique())\r\n",
        "\r\n",
        "het_fish = fish_df[fish_df.genotype == 'het']['bout_length'].values\r\n",
        "wt_fish = fish_df[fish_df.genotype == 'wt']['bout_length'].values\r\n",
        "mut_fish = fish_df[fish_df.genotype == 'mut']['bout_length'].values"
      ],
      "execution_count": null,
      "outputs": [
        {
          "output_type": "stream",
          "text": [
            "['het' 'wt' 'mut']\n"
          ],
          "name": "stdout"
        }
      ]
    },
    {
      "cell_type": "markdown",
      "metadata": {
        "id": "RD_ikGm3Biog"
      },
      "source": [
        "There are three types of fish studied in the dataset:\r\n",
        "\r\n",
        "- Wild Type: No mutations.\r\n",
        "\r\n",
        "- Heterozygote: Mutation on one of two chromosomes.\r\n",
        "\r\n",
        "- Mutant: Mutation on both chromosomes."
      ]
    },
    {
      "cell_type": "code",
      "metadata": {
        "colab": {
          "base_uri": "https://localhost:8080/"
        },
        "id": "kOaELHcQ3HV1",
        "outputId": "f1bf158e-3b3c-432b-ec6f-b890056ac769"
      },
      "source": [
        "pip install dc_stat_think"
      ],
      "execution_count": null,
      "outputs": [
        {
          "output_type": "stream",
          "text": [
            "Requirement already satisfied: dc_stat_think in /usr/local/lib/python3.6/dist-packages (1.1.1)\n"
          ],
          "name": "stdout"
        }
      ]
    },
    {
      "cell_type": "markdown",
      "metadata": {
        "id": "ShaBNyCJ8862"
      },
      "source": [
        "### ECDF"
      ]
    },
    {
      "cell_type": "code",
      "metadata": {
        "colab": {
          "base_uri": "https://localhost:8080/",
          "height": 317
        },
        "id": "rST2IrnrzOkH",
        "outputId": "809533c7-e7fb-4677-fcff-629bbce2ff63"
      },
      "source": [
        "# Import the dc_stat_think module as dcst\r\n",
        "import dc_stat_think as dcst\r\n",
        "\r\n",
        "# Generate x and y values for plotting ECDFs\r\n",
        "x_het, y_het = dcst.ecdf(het_fish)\r\n",
        "x_wt, y_wt = dcst.ecdf(wt_fish)\r\n",
        "x_mut, y_mut = dcst.ecdf(mut_fish)\r\n",
        "\r\n",
        "# Plot the ECDFs\r\n",
        "plt.plot(x_het, y_het, marker='.', linestyle='none')\r\n",
        "plt.plot(x_wt, y_wt, marker='.', linestyle='none')\r\n",
        "plt.plot(x_mut, y_mut, marker='.', linestyle='none')\r\n",
        "plt.legend(('Heterozygote', 'Wild', 'Mutant'))\r\n",
        "plt.title('ECDF of Zebra fish', y=1.08, alpha=0.8)\r\n",
        "plt.xlabel('Active bout length (min)')\r\n",
        "plt.ylabel('ECDF')\r\n",
        "plt.show()"
      ],
      "execution_count": null,
      "outputs": [
        {
          "output_type": "display_data",
          "data": {
            "image/png": "[encoded data removed]",
            "text/plain": [
              "<Figure size 432x288 with 1 Axes>"
            ]
          },
          "metadata": {
            "tags": []
          }
        }
      ]
    },
    {
      "cell_type": "markdown",
      "metadata": {
        "id": "ocB4wIZw8-DR"
      },
      "source": [
        "### PDF"
      ]
    },
    {
      "cell_type": "code",
      "metadata": {
        "colab": {
          "base_uri": "https://localhost:8080/",
          "height": 317
        },
        "id": "DQ8VbP8R10y8",
        "outputId": "ad63867a-2743-49b4-8513-db54efafe871"
      },
      "source": [
        "# Make a histogram \r\n",
        "ax = sns.histplot(x_wt, stat='density', kde=False, bins=80)\r\n",
        "plt.title('Zebra bout length distribution function', y=1.08, alpha=0.8)\r\n",
        "plt.xlabel('Time')\r\n",
        "plt.ylabel('PDF')\r\n",
        "plt.show()"
      ],
      "execution_count": null,
      "outputs": [
        {
          "output_type": "display_data",
          "data": {
            "image/png": "[encoded data removed]",
            "text/plain": [
              "<Figure size 432x288 with 1 Axes>"
            ]
          },
          "metadata": {
            "tags": []
          }
        }
      ]
    },
    {
      "cell_type": "markdown",
      "metadata": {
        "id": "EOM7kpjq4d3-"
      },
      "source": [
        "The bout lengths appear Exponentially distributed, which implies that exiting an active bout to rest is a Poisson process; the fish have no apparent memory about when they became active.\r\n",
        "\r\n",
        "The exponential distribution has a single parameter that describes the characteristic time between arrivals of a Poisson process."
      ]
    },
    {
      "cell_type": "markdown",
      "metadata": {
        "id": "AO-UcKcU-RlO"
      },
      "source": [
        "## Computing mean of active bout length"
      ]
    },
    {
      "cell_type": "code",
      "metadata": {
        "colab": {
          "base_uri": "https://localhost:8080/"
        },
        "id": "CATK__Z_zOh6",
        "outputId": "57aec67b-99ba-45ec-d127-22e9b527823a"
      },
      "source": [
        "mean_het = het_fish.mean()\r\n",
        "print('Het fish mean active bout length', mean_het)\r\n",
        "mean_wt = wt_fish.mean()\r\n",
        "print('Wild fish mean active bout length', mean_wt)\r\n",
        "mean_mut = mut_fish.mean()\r\n",
        "print('Mutant fish mean active bout length', mean_mut)"
      ],
      "execution_count": null,
      "outputs": [
        {
          "output_type": "stream",
          "text": [
            "Het fish mean active bout length 4.433677229182006\n",
            "Wild fish mean active bout length 3.873555713271929\n",
            "Mutant fish mean active bout length 6.543372781065037\n"
          ],
          "name": "stdout"
        }
      ]
    },
    {
      "cell_type": "markdown",
      "metadata": {
        "id": "bTjTwpul_KBH"
      },
      "source": [
        "This is only the sample mean. Let's estimate mean parameter through confidence interval:"
      ]
    },
    {
      "cell_type": "markdown",
      "metadata": {
        "id": "xcsNaM-d_ZkH"
      },
      "source": [
        "## Parameter estimation: CI active bout length"
      ]
    },
    {
      "cell_type": "code",
      "metadata": {
        "colab": {
          "base_uri": "https://localhost:8080/"
        },
        "id": "KohYD-W1_Y19",
        "outputId": "518fdec4-e7e7-4d36-b871-b834ab98a81c"
      },
      "source": [
        "# Draw bootstrap replicates\r\n",
        "bs_reps_het = dcst.draw_bs_reps(het_fish, np.mean, size=10000)\r\n",
        "bs_reps_wt = dcst.draw_bs_reps(wt_fish, np.mean, size=10000)\r\n",
        "bs_reps_mut = dcst.draw_bs_reps(mut_fish, np.mean, size=10000)\r\n",
        "\r\n",
        "# Compute 95% confidence intervals\r\n",
        "conf_int_het = np.percentile(bs_reps_het, [2.5, 97.5])\r\n",
        "conf_int_wt = np.percentile(bs_reps_wt, [2.5, 97.5])\r\n",
        "conf_int_mut = np.percentile(bs_reps_mut, [2.5, 97.5])\r\n",
        "\r\n",
        "# Print the results\r\n",
        "print(\"\"\"\r\n",
        "het: mean = {0:.3f} min., conf. int. = [{1:.1f}, {2:.1f}] min.\r\n",
        "wt:  mean = {3:.3f} min., conf. int. = [{4:.1f}, {5:.1f}] min.\r\n",
        "mut: mean = {6:.3f} min., conf. int. = [{7:.1f}, {8:.1f}] min.\r\n",
        "\"\"\".format(mean_het, *conf_int_het, mean_wt, *conf_int_wt, mean_mut, *conf_int_mut))"
      ],
      "execution_count": null,
      "outputs": [
        {
          "output_type": "stream",
          "text": [
            "\n",
            "het: mean = 4.434 min., conf. int. = [4.2, 4.7] min.\n",
            "wt:  mean = 3.874 min., conf. int. = [3.6, 4.1] min.\n",
            "mut: mean = 6.543 min., conf. int. = [6.1, 7.0] min.\n",
            "\n"
          ],
          "name": "stdout"
        }
      ]
    },
    {
      "cell_type": "markdown",
      "metadata": {
        "id": "q9ul3U9IBVmI"
      },
      "source": [
        "### Plot of CI"
      ]
    },
    {
      "cell_type": "code",
      "metadata": {
        "colab": {
          "base_uri": "https://localhost:8080/",
          "height": 282
        },
        "id": "BdO9Wo31AnZv",
        "outputId": "53f0a77a-93b1-404f-bc7b-1f4f5530ccbd"
      },
      "source": [
        "# Make a histogram of the Confidence interval of the mean.\r\n",
        "sns.histplot(bs_reps_het, stat='density', kde=True, label='Het', color='#6d7874')\r\n",
        "sns.histplot(bs_reps_wt, stat='density', kde=True, label='Wild')\r\n",
        "sns.histplot(bs_reps_mut, stat='density', kde=True, color='#b45f19', label='Mut')\r\n",
        "plt.xlabel('Peak Ratio')\r\n",
        "plt.ylabel('PDF')\r\n",
        "plt.legend()\r\n",
        "plt.show()"
      ],
      "execution_count": null,
      "outputs": [
        {
          "output_type": "display_data",
          "data": {
            "image/png": "[encoded data removed]",
            "text/plain": [
              "<Figure size 432x288 with 1 Axes>"
            ]
          },
          "metadata": {
            "tags": []
          }
        }
      ]
    },
    {
      "cell_type": "markdown",
      "metadata": {
        "id": "IUBSlcS8AX7t"
      },
      "source": [
        "The confidence intervals seems separated one another. \r\n",
        "\r\n",
        "Nonetheless, we will proceed to perform hypothesis tests for Het and Wild whose PDF touches in the tails.\r\n",
        "\r\n",
        "We will test if the mean active bout length actually changed with Het mutation.\r\n"
      ]
    },
    {
      "cell_type": "markdown",
      "metadata": {
        "id": "CDYAUU_VH3Aj"
      },
      "source": [
        "## Permutation hypothesis tests\r\n"
      ]
    },
    {
      "cell_type": "markdown",
      "metadata": {
        "id": "tYEHbCIDIH0a"
      },
      "source": [
        "\r\n",
        "Pipeline for hypothesis testing:\r\n",
        "\r\n",
        "- Clearly state the null hypothesis\r\n",
        "\r\n",
        "- Define your test statistic: In this case the mean.\r\n",
        "\r\n",
        "- Generate many sets of simulated data assuming the null hypothesis is true.\r\n",
        "\r\n",
        "\r\n",
        "Null hypothesis: Both Het and Wild active bout lengths are identically distributed.\r\n",
        "\r\n",
        "test statistic: Difference in mean active bout length betwen heterozygotes and wild type.\r\n",
        "\r\n",
        "p-value: The probability of obtaining a value of your test statistic that is at least as extreme as what was observer, under the assumption the null hypothesis is true. In this case test statistic greater than or equal to what was observed.\r\n",
        "\r\n",
        "We use permutation test:"
      ]
    },
    {
      "cell_type": "code",
      "metadata": {
        "colab": {
          "base_uri": "https://localhost:8080/"
        },
        "id": "Eu5OwmGWM4Cp",
        "outputId": "65cfb6ef-5f5e-436c-d8f4-065e3155c473"
      },
      "source": [
        "# Compute the difference of means: diff_means_exp\r\n",
        "diff_means_exp = np.mean(mean_het) - np.mean(mean_wt)\r\n",
        "print('Observed mean difference:', diff_means_exp)\r\n",
        "\r\n",
        "# Draw permutation replicates: perm_reps\r\n",
        "perm_reps = dcst.draw_perm_reps(het_fish, wt_fish, \r\n",
        "                               dcst.diff_of_means, size=10000)\r\n"
      ],
      "execution_count": null,
      "outputs": [
        {
          "output_type": "stream",
          "text": [
            "Observed mean difference: 0.560121515910077\n"
          ],
          "name": "stdout"
        }
      ]
    },
    {
      "cell_type": "code",
      "metadata": {
        "colab": {
          "base_uri": "https://localhost:8080/"
        },
        "id": "CMDwmBk-NK8h",
        "outputId": "fa13e7f5-d2ac-46a4-e3b1-69ae33121af5"
      },
      "source": [
        "# Compute the p-value: p_val\r\n",
        "p_val = np.sum(perm_reps >= diff_means_exp) / len(perm_reps)\r\n",
        "\r\n",
        "# Print the result\r\n",
        "print('p =', p_val)"
      ],
      "execution_count": null,
      "outputs": [
        {
          "output_type": "stream",
          "text": [
            "p = 0.0014\n"
          ],
          "name": "stdout"
        }
      ]
    },
    {
      "cell_type": "markdown",
      "metadata": {
        "id": "TJzW0QqONeEg"
      },
      "source": [
        "A p-value of 0.001 suggests that the observed difference in means is unlikely to occur if heterozygotic and wild type fish have active bout lengths that are identically distributed."
      ]
    },
    {
      "cell_type": "markdown",
      "metadata": {
        "id": "usFfWH9sNvgr"
      },
      "source": [
        "## Bootstrap hypothesis test\r\n",
        "\r\n",
        "The permutation test has a pretty restrictive hypothesis, that the heterozygotic and wild type bout lengths are identically distributed. Now, use a bootstrap hypothesis test to test the hypothesis that the means are equal, making no assumptions about the distributions."
      ]
    },
    {
      "cell_type": "code",
      "metadata": {
        "colab": {
          "base_uri": "https://localhost:8080/"
        },
        "id": "m-TQtQF6Nygz",
        "outputId": "6cd098b6-09ca-4ac2-de98-0f04ce9162cb"
      },
      "source": [
        "# Concatenate arrays: bout_lengths_concat\r\n",
        "bout_lengths_concat = np.concatenate((wt_fish, het_fish))\r\n",
        "\r\n",
        "# Compute mean of all bout_lengths: mean_bout_length\r\n",
        "mean_bout_length = np.mean(bout_lengths_concat)\r\n",
        "\r\n",
        "# Generate shifted arrays\r\n",
        "wt_shifted = wt_fish - np.mean(wt_fish) + mean_bout_length\r\n",
        "het_shifted = het_fish - np.mean(het_fish) + mean_bout_length\r\n",
        "\r\n",
        "# Compute 10,000 bootstrap replicates from shifted arrays\r\n",
        "bs_reps_wt = dcst.draw_bs_reps(wt_shifted, np.mean, size=10000)\r\n",
        "bs_reps_het = dcst.draw_bs_reps(het_shifted, np.mean, size=10000)\r\n",
        "\r\n",
        "# Get replicates of difference of means: bs_reps\r\n",
        "bs_reps = bs_reps_het - bs_reps_wt\r\n",
        "\r\n",
        "# Compute and print p-value: p\r\n",
        "p = np.sum(bs_reps >= diff_means_exp) / len(bs_reps)\r\n",
        "print('p-value =', p)"
      ],
      "execution_count": null,
      "outputs": [
        {
          "output_type": "stream",
          "text": [
            "p-value = 0.0008\n"
          ],
          "name": "stdout"
        }
      ]
    }
  ]
}