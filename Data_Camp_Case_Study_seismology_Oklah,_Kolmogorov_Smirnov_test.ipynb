{
  "nbformat": 4,
  "nbformat_minor": 0,
  "metadata": {
    "colab": {
      "name": "Data Camp Case Study seismology Oklah, Kolmogorov-Smirnov test.ipynb",
      "provenance": [],
      "collapsed_sections": [],
      "toc_visible": true,
      "authorship_tag": "ABX9TyOewy58FUvxrFp5g3KrHH9c",
      "include_colab_link": true
    },
    "kernelspec": {
      "name": "python3",
      "display_name": "Python 3"
    }
  },
  "cells": [
    {
      "cell_type": "markdown",
      "metadata": {
        "id": "view-in-github",
        "colab_type": "text"
      },
      "source": [
        "<a href=\"https://colab.research.google.com/github/Ferrariagustinpablo/Statistic-related/blob/main/Data_Camp_Case_Study_seismology_Oklah%2C_Kolmogorov_Smirnov_test.ipynb\" target=\"_parent\"><img src=\"https://colab.research.google.com/assets/colab-badge.svg\" alt=\"Open In Colab\"/></a>"
      ]
    },
    {
      "cell_type": "markdown",
      "metadata": {
        "id": "d8v4yqm4G9oL"
      },
      "source": [
        "The Gutenberg-Richter Law\r\n",
        "\r\n",
        "The magnitudes of earthquakes ina  given region over a given time period are Exponentially distributed.\r\n",
        "\r\n",
        "The exponential distribution has a single parameter. \r\n",
        "\r\n",
        "For historical reason seismologist do not use the mean directly, but the mean times the natural logarithm of ten.\r\n",
        "\r\n",
        "b = (/m - mt) ln10\r\n",
        "\r\n",
        "the magnitude mt is the one above which all earthquakes in a region can be detected.\r\n",
        "\r\n",
        "b value is a measure of seismicity. \r\n",
        "most seismically active regions have a b-value right around 1."
      ]
    },
    {
      "cell_type": "code",
      "metadata": {
        "colab": {
          "base_uri": "https://localhost:8080/"
        },
        "id": "kj_X-MYdBujI",
        "outputId": "8b6cb4bd-77e8-41b8-ed79-60ae6bb82691"
      },
      "source": [
        "import pandas as pd\r\n",
        "import numpy as np\r\n",
        "import matplotlib.pyplot as plt\r\n",
        "import seaborn as sns\r\n",
        "plt.style.use('ggplot')\r\n",
        "import datetime as dt\r\n",
        "\r\n",
        "!pip install dc_stat_think\r\n",
        "import dc_stat_think as dcst"
      ],
      "execution_count": null,
      "outputs": [
        {
          "output_type": "stream",
          "text": [
            "Collecting dc_stat_think\n",
            "  Downloading https://files.pythonhosted.org/packages/97/66/93f343227d0df3f953e94912df75675534c430cdc2a22251f45af85b542f/dc_stat_think-1.1.1-py2.py3-none-any.whl\n",
            "Installing collected packages: dc-stat-think\n",
            "Successfully installed dc-stat-think-1.1.1\n"
          ],
          "name": "stdout"
        }
      ]
    },
    {
      "cell_type": "code",
      "metadata": {
        "colab": {
          "base_uri": "https://localhost:8080/",
          "height": 496
        },
        "id": "BGSNoIXiGHja",
        "outputId": "781cf896-8ed9-4b1e-824e-5fc3d204e6ee"
      },
      "source": [
        "# Import dataset\r\n",
        "parkfield_l = 'https://assets.datacamp.com/production/repositories/1067/datasets/dfefd6ab5cf704d0723ec08723c9e7c9978c1700/parkfield_earthquakes_1950-2017.csv'\r\n",
        "earthquakes = pd.read_csv(parkfield_l, skiprows=2, parse_dates=['time'])\r\n",
        "\r\n",
        "# Display shape and head\r\n",
        "print(earthquakes.shape)\r\n",
        "earthquakes.head()"
      ],
      "execution_count": null,
      "outputs": [
        {
          "output_type": "stream",
          "text": [
            "(9991, 26)\n"
          ],
          "name": "stdout"
        },
        {
          "output_type": "execute_result",
          "data": {
            "text/html": [
              "<div>\n",
              "<style scoped>\n",
              "    .dataframe tbody tr th:only-of-type {\n",
              "        vertical-align: middle;\n",
              "    }\n",
              "\n",
              "    .dataframe tbody tr th {\n",
              "        vertical-align: top;\n",
              "    }\n",
              "\n",
              "    .dataframe thead th {\n",
              "        text-align: right;\n",
              "    }\n",
              "</style>\n",
              "<table border=\"1\" class=\"dataframe\">\n",
              "  <thead>\n",
              "    <tr style=\"text-align: right;\">\n",
              "      <th></th>\n",
              "      <th>time</th>\n",
              "      <th>latitude</th>\n",
              "      <th>longitude</th>\n",
              "      <th>depth</th>\n",
              "      <th>mag</th>\n",
              "      <th>magType</th>\n",
              "      <th>nst</th>\n",
              "      <th>gap</th>\n",
              "      <th>dmin</th>\n",
              "      <th>rms</th>\n",
              "      <th>net</th>\n",
              "      <th>id</th>\n",
              "      <th>updated</th>\n",
              "      <th>place</th>\n",
              "      <th>type</th>\n",
              "      <th>horizontalError</th>\n",
              "      <th>depthError</th>\n",
              "      <th>magError</th>\n",
              "      <th>magNst</th>\n",
              "      <th>status</th>\n",
              "      <th>locationSource</th>\n",
              "      <th>magSource</th>\n",
              "      <th>loc_name</th>\n",
              "      <th>loc_admin1</th>\n",
              "      <th>loc_admin2</th>\n",
              "      <th>loc_cc</th>\n",
              "    </tr>\n",
              "  </thead>\n",
              "  <tbody>\n",
              "    <tr>\n",
              "      <th>0</th>\n",
              "      <td>1951-10-03 13:44:33.170</td>\n",
              "      <td>35.869333</td>\n",
              "      <td>-120.451000</td>\n",
              "      <td>6.0</td>\n",
              "      <td>3.67</td>\n",
              "      <td>ml</td>\n",
              "      <td>6.0</td>\n",
              "      <td>259.0</td>\n",
              "      <td>1.5480</td>\n",
              "      <td>0.43</td>\n",
              "      <td>ci</td>\n",
              "      <td>ci3322265</td>\n",
              "      <td>2016-01-28T18:07:55.760Z</td>\n",
              "      <td>4km SSW of Parkfield, CA</td>\n",
              "      <td>earthquake</td>\n",
              "      <td>3.85</td>\n",
              "      <td>31.61</td>\n",
              "      <td>0.154</td>\n",
              "      <td>10.0</td>\n",
              "      <td>reviewed</td>\n",
              "      <td>ci</td>\n",
              "      <td>ci</td>\n",
              "      <td>Shandon</td>\n",
              "      <td>California</td>\n",
              "      <td>San Luis Obispo County</td>\n",
              "      <td>US</td>\n",
              "    </tr>\n",
              "    <tr>\n",
              "      <th>1</th>\n",
              "      <td>1953-05-28 07:58:34.510</td>\n",
              "      <td>36.004167</td>\n",
              "      <td>-120.501167</td>\n",
              "      <td>6.0</td>\n",
              "      <td>3.61</td>\n",
              "      <td>ml</td>\n",
              "      <td>7.0</td>\n",
              "      <td>296.0</td>\n",
              "      <td>0.9139</td>\n",
              "      <td>0.39</td>\n",
              "      <td>ci</td>\n",
              "      <td>ci3304011</td>\n",
              "      <td>2016-01-28T18:11:50.020Z</td>\n",
              "      <td>13km NNW of Parkfield, CA</td>\n",
              "      <td>earthquake</td>\n",
              "      <td>3.28</td>\n",
              "      <td>31.61</td>\n",
              "      <td>NaN</td>\n",
              "      <td>1.0</td>\n",
              "      <td>reviewed</td>\n",
              "      <td>ci</td>\n",
              "      <td>ci</td>\n",
              "      <td>Coalinga</td>\n",
              "      <td>California</td>\n",
              "      <td>Fresno County</td>\n",
              "      <td>US</td>\n",
              "    </tr>\n",
              "    <tr>\n",
              "      <th>2</th>\n",
              "      <td>1961-12-14 11:51:15.410</td>\n",
              "      <td>35.970000</td>\n",
              "      <td>-120.470167</td>\n",
              "      <td>6.0</td>\n",
              "      <td>3.95</td>\n",
              "      <td>ml</td>\n",
              "      <td>12.0</td>\n",
              "      <td>297.0</td>\n",
              "      <td>0.8718</td>\n",
              "      <td>0.51</td>\n",
              "      <td>ci</td>\n",
              "      <td>ci3344629</td>\n",
              "      <td>2016-01-28T19:48:08.330Z</td>\n",
              "      <td>9km NNW of Parkfield, CA</td>\n",
              "      <td>earthquake</td>\n",
              "      <td>3.43</td>\n",
              "      <td>31.61</td>\n",
              "      <td>0.070</td>\n",
              "      <td>11.0</td>\n",
              "      <td>reviewed</td>\n",
              "      <td>ci</td>\n",
              "      <td>ci</td>\n",
              "      <td>Coalinga</td>\n",
              "      <td>California</td>\n",
              "      <td>Fresno County</td>\n",
              "      <td>US</td>\n",
              "    </tr>\n",
              "    <tr>\n",
              "      <th>3</th>\n",
              "      <td>1965-02-21 18:39:24.500</td>\n",
              "      <td>35.881000</td>\n",
              "      <td>-120.383500</td>\n",
              "      <td>6.0</td>\n",
              "      <td>3.54</td>\n",
              "      <td>ml</td>\n",
              "      <td>10.0</td>\n",
              "      <td>257.0</td>\n",
              "      <td>1.5380</td>\n",
              "      <td>0.56</td>\n",
              "      <td>ci</td>\n",
              "      <td>ci3330686</td>\n",
              "      <td>2016-01-28T19:32:10.560Z</td>\n",
              "      <td>5km ESE of Parkfield, CA</td>\n",
              "      <td>earthquake</td>\n",
              "      <td>3.75</td>\n",
              "      <td>31.61</td>\n",
              "      <td>0.048</td>\n",
              "      <td>11.0</td>\n",
              "      <td>reviewed</td>\n",
              "      <td>ci</td>\n",
              "      <td>ci</td>\n",
              "      <td>Shandon</td>\n",
              "      <td>California</td>\n",
              "      <td>San Luis Obispo County</td>\n",
              "      <td>US</td>\n",
              "    </tr>\n",
              "    <tr>\n",
              "      <th>4</th>\n",
              "      <td>1966-06-28 04:18:36.180</td>\n",
              "      <td>35.856500</td>\n",
              "      <td>-120.446167</td>\n",
              "      <td>6.0</td>\n",
              "      <td>3.15</td>\n",
              "      <td>ml</td>\n",
              "      <td>7.0</td>\n",
              "      <td>259.0</td>\n",
              "      <td>1.3120</td>\n",
              "      <td>0.32</td>\n",
              "      <td>ci</td>\n",
              "      <td>ci3330125</td>\n",
              "      <td>2016-01-28T19:32:35.480Z</td>\n",
              "      <td>5km SSW of Parkfield, CA</td>\n",
              "      <td>earthquake</td>\n",
              "      <td>1.93</td>\n",
              "      <td>31.61</td>\n",
              "      <td>0.105</td>\n",
              "      <td>7.0</td>\n",
              "      <td>reviewed</td>\n",
              "      <td>ci</td>\n",
              "      <td>ci</td>\n",
              "      <td>Shandon</td>\n",
              "      <td>California</td>\n",
              "      <td>San Luis Obispo County</td>\n",
              "      <td>US</td>\n",
              "    </tr>\n",
              "  </tbody>\n",
              "</table>\n",
              "</div>"
            ],
            "text/plain": [
              "                     time   latitude  ...              loc_admin2  loc_cc\n",
              "0 1951-10-03 13:44:33.170  35.869333  ...  San Luis Obispo County      US\n",
              "1 1953-05-28 07:58:34.510  36.004167  ...           Fresno County      US\n",
              "2 1961-12-14 11:51:15.410  35.970000  ...           Fresno County      US\n",
              "3 1965-02-21 18:39:24.500  35.881000  ...  San Luis Obispo County      US\n",
              "4 1966-06-28 04:18:36.180  35.856500  ...  San Luis Obispo County      US\n",
              "\n",
              "[5 rows x 26 columns]"
            ]
          },
          "metadata": {
            "tags": []
          },
          "execution_count": 30
        }
      ]
    },
    {
      "cell_type": "markdown",
      "metadata": {
        "id": "uy48uSAnJZFb"
      },
      "source": [
        "As usual, you will start with EDA and plot the ECDF of the magnitudes of earthquakes detected in the Parkfield region from 1950 to 2017. "
      ]
    },
    {
      "cell_type": "markdown",
      "metadata": {
        "id": "KKwYX0TPJsdM"
      },
      "source": [
        "## Asterisc to plot ECDF"
      ]
    },
    {
      "cell_type": "markdown",
      "metadata": {
        "id": "5TRMtwAQJmFo"
      },
      "source": [
        "When you do it this time, though, take a shortcut in generating the ECDF. You may recall that putting an asterisk before an argument in a function splits what follows into separate arguments. Since dcst.ecdf() returns two values, we can pass them as the x, y positional arguments to plt.plot() as plt.plot(*dcst.ecdf(data_you_want_to_plot))."
      ]
    },
    {
      "cell_type": "code",
      "metadata": {
        "colab": {
          "base_uri": "https://localhost:8080/",
          "height": 282
        },
        "id": "r4EsXRtNJauS",
        "outputId": "361ed309-f0d9-48ee-f0c6-d401df8371dc"
      },
      "source": [
        "# Create an array of earthquake magnitudes\r\n",
        "mags = earthquakes.mag.values\r\n",
        "\r\n",
        "# Make the plot\r\n",
        "plt.plot(*dcst.ecdf(mags), marker='.', linestyle='none')\r\n",
        "plt.xlabel('magnitude')\r\n",
        "plt.ylabel('ECDF')\r\n",
        "plt.show()"
      ],
      "execution_count": null,
      "outputs": [
        {
          "output_type": "display_data",
          "data": {
            "image/png": "[encoded data removed]",
            "text/plain": [
              "<Figure size 432x288 with 1 Axes>"
            ]
          },
          "metadata": {
            "tags": [],
            "needs_background": "light"
          }
        }
      ]
    },
    {
      "cell_type": "markdown",
      "metadata": {
        "id": "IoERYrPYXTO-"
      },
      "source": [
        "## Computing the b-value"
      ]
    },
    {
      "cell_type": "markdown",
      "metadata": {
        "id": "n7cxfytlXI2t"
      },
      "source": [
        "The b-value is a common metric for the seismicity of a region. You can imagine you would like to calculate it often when working with earthquake data. For tasks like this that you will do often, it is best to write a function"
      ]
    },
    {
      "cell_type": "code",
      "metadata": {
        "id": "iL6Xt-hLXIWw"
      },
      "source": [
        "def b_value(mags, mt, perc=[2.5, 97.5], n_reps=None):\r\n",
        "    \"\"\"Compute the b-value and optionally its confidence interval.\"\"\"\r\n",
        "    # Extract magnitudes above completeness threshold: m\r\n",
        "    m = mags[mags >= mt]\r\n",
        "\r\n",
        "    # Compute b-value: b\r\n",
        "    b = (np.mean(m) - mt) * np.log(10)\r\n",
        "\r\n",
        "    # Draw bootstrap replicates\r\n",
        "    if n_reps is None:\r\n",
        "        return b\r\n",
        "    else:\r\n",
        "        m_bs_reps = dcst.draw_bs_reps(m, np.mean, size=n_reps)\r\n",
        "\r\n",
        "        # Compute b-value from replicates: b_bs_reps\r\n",
        "        b_bs_reps = (m_bs_reps - mt) * np.log(10)\r\n",
        "\r\n",
        "        # Compute confidence interval: conf_int\r\n",
        "        conf_int = np.percentile(b_bs_reps, perc)\r\n",
        "    \r\n",
        "        return b, conf_int"
      ],
      "execution_count": null,
      "outputs": []
    },
    {
      "cell_type": "markdown",
      "metadata": {
        "id": "PT6dNXCyX-sK"
      },
      "source": [
        "Because there are plenty of earthquakes above magnitude 3, you can use mt = 3 as your completeness threshold. With this completeness threshold, compute the b-value for the Parkfield region from 1950 to 2016, along with the 95% confidence interval. \r\n",
        "\r\n",
        "Overlay the theoretical Exponential CDF to verify that the Parkfield region follows the Gutenberg-Richter Law."
      ]
    },
    {
      "cell_type": "code",
      "metadata": {
        "colab": {
          "base_uri": "https://localhost:8080/",
          "height": 333
        },
        "id": "Oz_jlLIOXhVN",
        "outputId": "12b9d08e-4b33-41c0-99a2-1b2de2bb84f1"
      },
      "source": [
        "mt = 3\r\n",
        "\r\n",
        "# Compute b-value and confidence interval\r\n",
        "b, conf_int = b_value(mags, mt, perc=[2.5, 97.5], n_reps=10000)\r\n",
        "\r\n",
        "# Generate samples to for theoretical ECDF\r\n",
        "m_theor = np.random.exponential(b/np.log(10), size=100000) + mt\r\n",
        "\r\n",
        "# Plot the theoretical CDF\r\n",
        "plt.plot(*dcst.ecdf(m_theor))\r\n",
        "# Plot the ECDF (slicing mags >= mt)\r\n",
        "plt.plot(*dcst.ecdf(mags[mags >= mt]), marker='.', linestyle='none')\r\n",
        "\r\n",
        "# Pretty up and show the plot\r\n",
        "plt.xlabel('magnitude')\r\n",
        "plt.ylabel('ECDF')\r\n",
        "plt.xlim(2.8, 6.2)\r\n",
        "plt.show()\r\n",
        "\r\n",
        "# Report the results\r\n",
        "print(\"\"\"\r\n",
        "b-value: {0:.2f}\r\n",
        "95% conf int: [{1:.2f}, {2:.2f}]\"\"\".format(b, *conf_int))"
      ],
      "execution_count": null,
      "outputs": [
        {
          "output_type": "display_data",
          "data": {
            "image/png": "[encoded data removed]",
            "text/plain": [
              "<Figure size 432x288 with 1 Axes>"
            ]
          },
          "metadata": {
            "tags": [],
            "needs_background": "light"
          }
        },
        {
          "output_type": "stream",
          "text": [
            "\n",
            "b-value: 1.08\n",
            "95% conf int: [0.94, 1.24]\n"
          ],
          "name": "stdout"
        }
      ]
    },
    {
      "cell_type": "markdown",
      "metadata": {
        "id": "Z9xmBxe6aWjw"
      },
      "source": [
        "Parkfield seems to follow the Gutenberg-Richter law very well. The b-value of about 1 is typical for regions along fault zones."
      ]
    },
    {
      "cell_type": "markdown",
      "metadata": {
        "id": "v3YgwAZsaeJH"
      },
      "source": [
        "## Models for earthquake timing"
      ]
    },
    {
      "cell_type": "markdown",
      "metadata": {
        "id": "q9da69JYasdo"
      },
      "source": [
        "Exponential model for timing: Eartquakes happen like a Poisson process. Each independent to one another.\r\n",
        "\r\n",
        "Gaussian or normal model: Earthquakes happen periodically.\r\n"
      ]
    },
    {
      "cell_type": "markdown",
      "metadata": {
        "id": "q5lJOTJqh8jX"
      },
      "source": [
        "### Filtering dataset for interearthquake times. "
      ]
    },
    {
      "cell_type": "code",
      "metadata": {
        "colab": {
          "base_uri": "https://localhost:8080/",
          "height": 394
        },
        "id": "CuZiMoucaXPI",
        "outputId": "43a2580c-1109-4c61-8f45-8a31a1d4992c"
      },
      "source": [
        "# New format: 'YYYY/MM/DD'\r\n",
        "new_format = \"%Y/%m/%d\"\r\n",
        "earthquakes.time = earthquakes.time.dt.strftime(new_format)\r\n",
        "\r\n",
        "# Filter only for earthquakes with magnitude higher than 4\r\n",
        "earthquakes = earthquakes[earthquakes.mag>4]\r\n",
        "earthquakes.head()"
      ],
      "execution_count": null,
      "outputs": [
        {
          "output_type": "execute_result",
          "data": {
            "text/html": [
              "<div>\n",
              "<style scoped>\n",
              "    .dataframe tbody tr th:only-of-type {\n",
              "        vertical-align: middle;\n",
              "    }\n",
              "\n",
              "    .dataframe tbody tr th {\n",
              "        vertical-align: top;\n",
              "    }\n",
              "\n",
              "    .dataframe thead th {\n",
              "        text-align: right;\n",
              "    }\n",
              "</style>\n",
              "<table border=\"1\" class=\"dataframe\">\n",
              "  <thead>\n",
              "    <tr style=\"text-align: right;\">\n",
              "      <th></th>\n",
              "      <th>time</th>\n",
              "      <th>latitude</th>\n",
              "      <th>longitude</th>\n",
              "      <th>depth</th>\n",
              "      <th>mag</th>\n",
              "      <th>magType</th>\n",
              "      <th>nst</th>\n",
              "      <th>gap</th>\n",
              "      <th>dmin</th>\n",
              "      <th>rms</th>\n",
              "      <th>net</th>\n",
              "      <th>id</th>\n",
              "      <th>updated</th>\n",
              "      <th>place</th>\n",
              "      <th>type</th>\n",
              "      <th>horizontalError</th>\n",
              "      <th>depthError</th>\n",
              "      <th>magError</th>\n",
              "      <th>magNst</th>\n",
              "      <th>status</th>\n",
              "      <th>locationSource</th>\n",
              "      <th>magSource</th>\n",
              "      <th>loc_name</th>\n",
              "      <th>loc_admin1</th>\n",
              "      <th>loc_admin2</th>\n",
              "      <th>loc_cc</th>\n",
              "    </tr>\n",
              "  </thead>\n",
              "  <tbody>\n",
              "    <tr>\n",
              "      <th>5</th>\n",
              "      <td>1966/06/28</td>\n",
              "      <td>35.790500</td>\n",
              "      <td>-120.294000</td>\n",
              "      <td>6.000</td>\n",
              "      <td>5.47</td>\n",
              "      <td>ml</td>\n",
              "      <td>15.0</td>\n",
              "      <td>247.0</td>\n",
              "      <td>1.18300</td>\n",
              "      <td>0.48</td>\n",
              "      <td>ci</td>\n",
              "      <td>ci3330127</td>\n",
              "      <td>2017-04-26T17:23:14.375Z</td>\n",
              "      <td>8km N of Cholame, CA</td>\n",
              "      <td>earthquake</td>\n",
              "      <td>3.51</td>\n",
              "      <td>31.61</td>\n",
              "      <td>0.075</td>\n",
              "      <td>8.0</td>\n",
              "      <td>reviewed</td>\n",
              "      <td>ci</td>\n",
              "      <td>ci</td>\n",
              "      <td>Shandon</td>\n",
              "      <td>California</td>\n",
              "      <td>San Luis Obispo County</td>\n",
              "      <td>US</td>\n",
              "    </tr>\n",
              "    <tr>\n",
              "      <th>6</th>\n",
              "      <td>1966/06/28</td>\n",
              "      <td>35.950000</td>\n",
              "      <td>-120.500000</td>\n",
              "      <td>6.000</td>\n",
              "      <td>4.50</td>\n",
              "      <td>mh</td>\n",
              "      <td>NaN</td>\n",
              "      <td>NaN</td>\n",
              "      <td>NaN</td>\n",
              "      <td>NaN</td>\n",
              "      <td>ci</td>\n",
              "      <td>ci10086774</td>\n",
              "      <td>2016-01-28T19:54:08.270Z</td>\n",
              "      <td>8km NW of Parkfield, CA</td>\n",
              "      <td>earthquake</td>\n",
              "      <td>NaN</td>\n",
              "      <td>NaN</td>\n",
              "      <td>NaN</td>\n",
              "      <td>0.0</td>\n",
              "      <td>reviewed</td>\n",
              "      <td>ci</td>\n",
              "      <td>ci</td>\n",
              "      <td>Coalinga</td>\n",
              "      <td>California</td>\n",
              "      <td>Fresno County</td>\n",
              "      <td>US</td>\n",
              "    </tr>\n",
              "    <tr>\n",
              "      <th>241</th>\n",
              "      <td>1967/08/12</td>\n",
              "      <td>35.774667</td>\n",
              "      <td>-120.328167</td>\n",
              "      <td>6.000</td>\n",
              "      <td>4.09</td>\n",
              "      <td>ml</td>\n",
              "      <td>14.0</td>\n",
              "      <td>246.0</td>\n",
              "      <td>1.21000</td>\n",
              "      <td>0.56</td>\n",
              "      <td>ci</td>\n",
              "      <td>ci3329531</td>\n",
              "      <td>2016-01-28T19:33:12.190Z</td>\n",
              "      <td>6km NNW of Cholame, CA</td>\n",
              "      <td>earthquake</td>\n",
              "      <td>2.81</td>\n",
              "      <td>31.61</td>\n",
              "      <td>0.192</td>\n",
              "      <td>12.0</td>\n",
              "      <td>reviewed</td>\n",
              "      <td>ci</td>\n",
              "      <td>ci</td>\n",
              "      <td>Shandon</td>\n",
              "      <td>California</td>\n",
              "      <td>San Luis Obispo County</td>\n",
              "      <td>US</td>\n",
              "    </tr>\n",
              "    <tr>\n",
              "      <th>278</th>\n",
              "      <td>1975/01/06</td>\n",
              "      <td>35.944333</td>\n",
              "      <td>-120.513667</td>\n",
              "      <td>9.673</td>\n",
              "      <td>4.40</td>\n",
              "      <td>ml</td>\n",
              "      <td>19.0</td>\n",
              "      <td>117.0</td>\n",
              "      <td>0.03243</td>\n",
              "      <td>0.12</td>\n",
              "      <td>nc</td>\n",
              "      <td>nc1022464</td>\n",
              "      <td>2016-12-14T23:10:17.990Z</td>\n",
              "      <td>Central California</td>\n",
              "      <td>earthquake</td>\n",
              "      <td>0.43</td>\n",
              "      <td>0.89</td>\n",
              "      <td>NaN</td>\n",
              "      <td>0.0</td>\n",
              "      <td>reviewed</td>\n",
              "      <td>nc</td>\n",
              "      <td>nc</td>\n",
              "      <td>Coalinga</td>\n",
              "      <td>California</td>\n",
              "      <td>Fresno County</td>\n",
              "      <td>US</td>\n",
              "    </tr>\n",
              "    <tr>\n",
              "      <th>324</th>\n",
              "      <td>1975/09/13</td>\n",
              "      <td>35.997667</td>\n",
              "      <td>-120.544833</td>\n",
              "      <td>10.405</td>\n",
              "      <td>4.80</td>\n",
              "      <td>ml</td>\n",
              "      <td>27.0</td>\n",
              "      <td>69.0</td>\n",
              "      <td>0.07748</td>\n",
              "      <td>0.07</td>\n",
              "      <td>nc</td>\n",
              "      <td>nc1026327</td>\n",
              "      <td>2016-12-15T03:13:33.590Z</td>\n",
              "      <td>Central California</td>\n",
              "      <td>earthquake</td>\n",
              "      <td>0.29</td>\n",
              "      <td>0.72</td>\n",
              "      <td>NaN</td>\n",
              "      <td>0.0</td>\n",
              "      <td>reviewed</td>\n",
              "      <td>nc</td>\n",
              "      <td>nc</td>\n",
              "      <td>Coalinga</td>\n",
              "      <td>California</td>\n",
              "      <td>Fresno County</td>\n",
              "      <td>US</td>\n",
              "    </tr>\n",
              "  </tbody>\n",
              "</table>\n",
              "</div>"
            ],
            "text/plain": [
              "           time   latitude  ...              loc_admin2  loc_cc\n",
              "5    1966/06/28  35.790500  ...  San Luis Obispo County      US\n",
              "6    1966/06/28  35.950000  ...           Fresno County      US\n",
              "241  1967/08/12  35.774667  ...  San Luis Obispo County      US\n",
              "278  1975/01/06  35.944333  ...           Fresno County      US\n",
              "324  1975/09/13  35.997667  ...           Fresno County      US\n",
              "\n",
              "[5 rows x 26 columns]"
            ]
          },
          "metadata": {
            "tags": []
          },
          "execution_count": 31
        }
      ]
    },
    {
      "cell_type": "code",
      "metadata": {
        "colab": {
          "base_uri": "https://localhost:8080/",
          "height": 250
        },
        "id": "O4K1qBqIkih-",
        "outputId": "072c4e67-d4f6-455c-b685-b20326172959"
      },
      "source": [
        "# Change object columns to datetime:\r\n",
        "earthquakes['time'] = pd.to_datetime(earthquakes['time'])\r\n",
        "\r\n",
        "# Compute time between events\r\n",
        "earthquakes['time between earthq'] = pd.to_datetime(earthquakes.time.shift(1)) \r\n",
        "earthquakes['time between earthq'] = earthquakes.time - pd.to_datetime(earthquakes['time between earthq'])\r\n",
        "earthquakes.head(2)"
      ],
      "execution_count": null,
      "outputs": [
        {
          "output_type": "execute_result",
          "data": {
            "text/html": [
              "<div>\n",
              "<style scoped>\n",
              "    .dataframe tbody tr th:only-of-type {\n",
              "        vertical-align: middle;\n",
              "    }\n",
              "\n",
              "    .dataframe tbody tr th {\n",
              "        vertical-align: top;\n",
              "    }\n",
              "\n",
              "    .dataframe thead th {\n",
              "        text-align: right;\n",
              "    }\n",
              "</style>\n",
              "<table border=\"1\" class=\"dataframe\">\n",
              "  <thead>\n",
              "    <tr style=\"text-align: right;\">\n",
              "      <th></th>\n",
              "      <th>time</th>\n",
              "      <th>latitude</th>\n",
              "      <th>longitude</th>\n",
              "      <th>depth</th>\n",
              "      <th>mag</th>\n",
              "      <th>magType</th>\n",
              "      <th>nst</th>\n",
              "      <th>gap</th>\n",
              "      <th>dmin</th>\n",
              "      <th>rms</th>\n",
              "      <th>net</th>\n",
              "      <th>id</th>\n",
              "      <th>updated</th>\n",
              "      <th>place</th>\n",
              "      <th>type</th>\n",
              "      <th>horizontalError</th>\n",
              "      <th>depthError</th>\n",
              "      <th>magError</th>\n",
              "      <th>magNst</th>\n",
              "      <th>status</th>\n",
              "      <th>locationSource</th>\n",
              "      <th>magSource</th>\n",
              "      <th>loc_name</th>\n",
              "      <th>loc_admin1</th>\n",
              "      <th>loc_admin2</th>\n",
              "      <th>loc_cc</th>\n",
              "      <th>time between earthq</th>\n",
              "    </tr>\n",
              "  </thead>\n",
              "  <tbody>\n",
              "    <tr>\n",
              "      <th>5</th>\n",
              "      <td>1966-06-28</td>\n",
              "      <td>35.7905</td>\n",
              "      <td>-120.294</td>\n",
              "      <td>6.0</td>\n",
              "      <td>5.47</td>\n",
              "      <td>ml</td>\n",
              "      <td>15.0</td>\n",
              "      <td>247.0</td>\n",
              "      <td>1.183</td>\n",
              "      <td>0.48</td>\n",
              "      <td>ci</td>\n",
              "      <td>ci3330127</td>\n",
              "      <td>2017-04-26T17:23:14.375Z</td>\n",
              "      <td>8km N of Cholame, CA</td>\n",
              "      <td>earthquake</td>\n",
              "      <td>3.51</td>\n",
              "      <td>31.61</td>\n",
              "      <td>0.075</td>\n",
              "      <td>8.0</td>\n",
              "      <td>reviewed</td>\n",
              "      <td>ci</td>\n",
              "      <td>ci</td>\n",
              "      <td>Shandon</td>\n",
              "      <td>California</td>\n",
              "      <td>San Luis Obispo County</td>\n",
              "      <td>US</td>\n",
              "      <td>NaT</td>\n",
              "    </tr>\n",
              "    <tr>\n",
              "      <th>6</th>\n",
              "      <td>1966-06-28</td>\n",
              "      <td>35.9500</td>\n",
              "      <td>-120.500</td>\n",
              "      <td>6.0</td>\n",
              "      <td>4.50</td>\n",
              "      <td>mh</td>\n",
              "      <td>NaN</td>\n",
              "      <td>NaN</td>\n",
              "      <td>NaN</td>\n",
              "      <td>NaN</td>\n",
              "      <td>ci</td>\n",
              "      <td>ci10086774</td>\n",
              "      <td>2016-01-28T19:54:08.270Z</td>\n",
              "      <td>8km NW of Parkfield, CA</td>\n",
              "      <td>earthquake</td>\n",
              "      <td>NaN</td>\n",
              "      <td>NaN</td>\n",
              "      <td>NaN</td>\n",
              "      <td>0.0</td>\n",
              "      <td>reviewed</td>\n",
              "      <td>ci</td>\n",
              "      <td>ci</td>\n",
              "      <td>Coalinga</td>\n",
              "      <td>California</td>\n",
              "      <td>Fresno County</td>\n",
              "      <td>US</td>\n",
              "      <td>0 days</td>\n",
              "    </tr>\n",
              "  </tbody>\n",
              "</table>\n",
              "</div>"
            ],
            "text/plain": [
              "        time  latitude  ...  loc_cc  time between earthq\n",
              "5 1966-06-28   35.7905  ...      US                  NaT\n",
              "6 1966-06-28   35.9500  ...      US               0 days\n",
              "\n",
              "[2 rows x 27 columns]"
            ]
          },
          "metadata": {
            "tags": []
          },
          "execution_count": 32
        }
      ]
    },
    {
      "cell_type": "code",
      "metadata": {
        "colab": {
          "base_uri": "https://localhost:8080/"
        },
        "id": "RZpPCZ_CsSOG",
        "outputId": "c2b3dc69-c6c9-4f95-9169-85467d6e9b16"
      },
      "source": [
        "# Calculate time gap for events hith magnitude higher than 3.\r\n",
        "time_gap = earthquakes['time between earthq'].dt.days.dropna().astype(int).values\r\n",
        "\r\n",
        "# Sort np array\r\n",
        "time_gap = np.sort(time_gap)\r\n",
        "time_gap"
      ],
      "execution_count": null,
      "outputs": [
        {
          "output_type": "execute_result",
          "data": {
            "text/plain": [
              "array([   0,    0,    0,    0,    0,    0,    0,    0,    0,    0,    0,\n",
              "          0,    1,    1,   60,  166,  168,  224,  250,  401,  410,  686,\n",
              "        736, 1903, 2704, 2884, 6247])"
            ]
          },
          "metadata": {
            "tags": []
          },
          "execution_count": 33
        }
      ]
    },
    {
      "cell_type": "code",
      "metadata": {
        "colab": {
          "base_uri": "https://localhost:8080/",
          "height": 299
        },
        "id": "q8JH_kXot1VF",
        "outputId": "0abd4267-3383-4ea9-f6ad-17bd2601fd48"
      },
      "source": [
        "# Compute the mean time gap: mean_time_gap\r\n",
        "mean_time_gap = np.mean(time_gap)\r\n",
        "print('Sample mean of time gap: ', mean_time_gap)\r\n",
        "\r\n",
        "# Standard deviation of the time gap: std_time_gap\r\n",
        "std_time_gap = np.std(time_gap)\r\n",
        "\r\n",
        "# Generate theoretical Exponential distribution of timings: time_gap_exp\r\n",
        "time_gap_exp = np.random.exponential(mean_time_gap, size=10000)\r\n",
        "time_gap_norm = np.random.normal(mean_time_gap, std_time_gap, size=100000)\r\n",
        "\r\n",
        "# Plot CDFs\r\n",
        "plt.plot(*dcst.ecdf(time_gap_exp))\r\n",
        "plt.plot(*dcst.ecdf(time_gap_norm))\r\n",
        "plt.plot(*dcst.ecdf(time_gap))\r\n",
        "plt.xlabel('time gap (years)')\r\n",
        "plt.ylabel('ECDF')\r\n",
        "plt.show()"
      ],
      "execution_count": null,
      "outputs": [
        {
          "output_type": "stream",
          "text": [
            "Sample mean of time gap:  623.7407407407408\n"
          ],
          "name": "stdout"
        },
        {
          "output_type": "display_data",
          "data": {
            "image/png": "[encoded data removed]",
            "text/plain": [
              "<Figure size 432x288 with 1 Axes>"
            ]
          },
          "metadata": {
            "tags": [],
            "needs_background": "light"
          }
        }
      ]
    },
    {
      "cell_type": "markdown",
      "metadata": {
        "id": "QwRh4g46gUgl"
      },
      "source": [
        "It seems the distribution functions is closer to the exponential than the normal one."
      ]
    },
    {
      "cell_type": "markdown",
      "metadata": {
        "id": "OcKYN3DicVfW"
      },
      "source": [
        "## When will the next big Parkfield quake be assuming exponential?\r\n",
        "What happens to the mean if time between events follow a normal distribution function?\r\n"
      ]
    },
    {
      "cell_type": "markdown",
      "metadata": {
        "id": "xDgdMF_qchFs"
      },
      "source": [
        " The best estimate is given by the mean time gap\r\n",
        "\r\n",
        " Compute 95% confidence intervals on when the next earthquake will be assuming an Exponential distribution **parametrized** by mean_time_gap\r\n",
        "\r\n",
        " Here we are looking for parametrized CI, if not we would make bootstrap replicas."
      ]
    },
    {
      "cell_type": "code",
      "metadata": {
        "colab": {
          "base_uri": "https://localhost:8080/"
        },
        "id": "zsHuAE25cogg",
        "outputId": "c16cd055-10f5-44ac-a9a8-4b3d8be80d48"
      },
      "source": [
        "# Draw samples from the Exponential distribution: exp_samples\r\n",
        "exp_samples = np.random.exponential(mean_time_gap, size=100000)\r\n",
        "\r\n",
        "# Draw samples from the Normal distribution: norm_samples\r\n",
        "norm_samples = np.random.normal(mean_time_gap, std_time_gap, size=100000)\r\n",
        "\r\n",
        "# Compute the confidence intervals with medians\r\n",
        "conf_int_exp = np.percentile(exp_samples, [2.5, 50, 97.5])\r\n",
        "conf_int_norm = np.percentile(norm_samples, [2.5, 50, 97.5]) \r\n",
        "\r\n",
        "# Print the results\r\n",
        "print('Exponential:', conf_int_exp)\r\n",
        "print('     Normal:', conf_int_norm)"
      ],
      "execution_count": null,
      "outputs": [
        {
          "output_type": "stream",
          "text": [
            "Exponential: [  15.91277312  433.96452164 2289.73886975]\n",
            "     Normal: [-2017.65753674   622.81414999  3258.65635676]\n"
          ],
          "name": "stdout"
        }
      ]
    },
    {
      "cell_type": "markdown",
      "metadata": {
        "id": "QdapuAHDfjjy"
      },
      "source": [
        "Standard deviation is really high due to small dataset. With this dataset we can't really draw conclusions, but the codes and what the analysis should be, stays the same."
      ]
    },
    {
      "cell_type": "markdown",
      "metadata": {
        "id": "TPtKGZpCezTE"
      },
      "source": [
        "## How are the Parkfield interearthquake times distributed? Kolgomorov-Smirnov Test\r\n"
      ]
    },
    {
      "cell_type": "markdown",
      "metadata": {
        "id": "obtOav7evDL1"
      },
      "source": [
        "### K-S: Important experiment to do to a datasets. We can compare with different distributions beyond visual EDA. "
      ]
    },
    {
      "cell_type": "markdown",
      "metadata": {
        "id": "8_yhDo9tglPx"
      },
      "source": [
        "We saw the dataset distribution function could be an exponential function. But how we can measure how close empirical ECDF is to a theoretical CDF?\r\n",
        "\r\n",
        "We will analyse the case computing a test statistic that follow the difference between those functions. Maximum of distances seems like a reasonable measure. This maximal distances has a name: The Kolmogorov-Smirnov statistic or K-S statistic."
      ]
    },
    {
      "cell_type": "markdown",
      "metadata": {
        "id": "0EJq9DFShjrN"
      },
      "source": [
        "Our hypothesis: The time between earthquakes is exponentially distributed with a mean and standard deviation as calculated from the data.\r\n",
        "\r\n",
        "Test statistic: K-S statistic\r\n",
        "\r\n",
        "p-test >= than observed K-S statistic"
      ]
    },
    {
      "cell_type": "markdown",
      "metadata": {
        "id": "QL23WWEdiCoV"
      },
      "source": [
        "- First we draw and store lots (10000) samples out of the **theoretical** distribution\r\n",
        "\r\n",
        "- Draw n samples out of the theoretical distribution.\r\n",
        "\r\n",
        "- Compute the K-S statistic from the samples."
      ]
    },
    {
      "cell_type": "markdown",
      "metadata": {
        "id": "KW7pMdUYmZn5"
      },
      "source": [
        "To be able to do the Kolmogorov-Smirnov test, we need to compute the value of a formal ECDF at arbitrary points. In other words, we need a function, ecdf_formal(x, data) that returns the value of the formal ECDF derived from the data set. \r\n",
        "\r\n",
        "The function is like this:\r\n",
        "\r\n",
        "def ecdf_formal(x, data):\r\n",
        "    return np.searchsorted(np.sort(data), x, side='right') / len(data)"
      ]
    },
    {
      "cell_type": "code",
      "metadata": {
        "id": "0gC9zFfdf-UB"
      },
      "source": [
        "def ks_stat(data1, data2):\r\n",
        "    # Compute ECDF from data: x, y\r\n",
        "    x, y = dcst.ecdf(data1)\r\n",
        "    \r\n",
        "    # Compute corresponding values of the target CDF\r\n",
        "    cdf = dcst.ecdf_formal(x, data2)\r\n",
        "\r\n",
        "    # Compute distances between concave corners and CDF\r\n",
        "    D_top = y - cdf\r\n",
        "\r\n",
        "    # Compute distance between convex corners and CDF\r\n",
        "    D_bottom = cdf - y + 1/len(data1)\r\n",
        "\r\n",
        "    return np.max((D_top, D_bottom))"
      ],
      "execution_count": null,
      "outputs": []
    },
    {
      "cell_type": "markdown",
      "metadata": {
        "id": "Gw-PI4u5nNgS"
      },
      "source": [
        "### Drawing K-S replicates"
      ]
    },
    {
      "cell_type": "code",
      "metadata": {
        "id": "ZSHyJeN-nPm2"
      },
      "source": [
        "def draw_ks_reps(n, f, args=(), size=10000, n_reps=10000):\r\n",
        "    # Generate samples from target distribution\r\n",
        "    x_f = f(*args, size=size)\r\n",
        "    \r\n",
        "    # Initialize K-S replicates\r\n",
        "    reps = np.empty(n_reps)\r\n",
        "    \r\n",
        "    # Draw replicates\r\n",
        "    for i in range(n_reps):\r\n",
        "        # Draw samples for comparison\r\n",
        "        x_samp = f(*args, size=n)\r\n",
        "        \r\n",
        "        # Compute K-S statistic\r\n",
        "        reps[i] = dcst.ks_stat(x_samp, x_f)\r\n",
        "\r\n",
        "    return reps"
      ],
      "execution_count": null,
      "outputs": []
    },
    {
      "cell_type": "markdown",
      "metadata": {
        "id": "xcQah1AwoCoJ"
      },
      "source": [
        "### The K-S test for Exponentiality\r\n",
        "\r\n",
        "Test the null hypothesis that the interearthquake times of the Parkfield sequence are Exponentially distributed. That is, earthquakes happen at random with no memory of when the last one was. "
      ]
    },
    {
      "cell_type": "code",
      "metadata": {
        "colab": {
          "base_uri": "https://localhost:8080/"
        },
        "id": "opp2lkgknvTx",
        "outputId": "201ca426-fbba-419c-95e7-6e8a5c4b3eba"
      },
      "source": [
        "# Draw target distribution: x_f\r\n",
        "x_f = np.random.exponential(mean_time_gap, size=10000)\r\n",
        "\r\n",
        "# Compute K-S stat: d\r\n",
        "ks_stat = dcst.ks_stat(time_gap, x_f)\r\n",
        "\r\n",
        "# Draw K-S replicates: reps\r\n",
        "reps = dcst.draw_ks_reps(len(time_gap), np.random.exponential, \r\n",
        "                         args=(mean_time_gap,), size=10000, n_reps=10000)\r\n",
        "\r\n",
        "# Compute and print p-value\r\n",
        "p_val = np.sum(reps >= ks_stat) / 10000\r\n",
        "print('p =', p_val)"
      ],
      "execution_count": null,
      "outputs": [
        {
          "output_type": "stream",
          "text": [
            "p = 0.0\n"
          ],
          "name": "stdout"
        }
      ]
    },
    {
      "cell_type": "markdown",
      "metadata": {
        "id": "lgqs3YZbuln-"
      },
      "source": [
        "P-value is 0. This means there is no possibility the dataset has exponential distribution function."
      ]
    }
  ]
}