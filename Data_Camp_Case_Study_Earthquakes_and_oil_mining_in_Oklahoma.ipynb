{
  "nbformat": 4,
  "nbformat_minor": 0,
  "metadata": {
    "colab": {
      "name": "Data Camp Case Study Earthquakes and oil mining in Oklahoma.ipynb",
      "provenance": [],
      "collapsed_sections": [],
      "toc_visible": true,
      "authorship_tag": "ABX9TyPjju3WJErDCnIk7ISD9kBc",
      "include_colab_link": true
    },
    "kernelspec": {
      "name": "python3",
      "display_name": "Python 3"
    }
  },
  "cells": [
    {
      "cell_type": "markdown",
      "metadata": {
        "id": "view-in-github",
        "colab_type": "text"
      },
      "source": [
        "<a href=\"https://colab.research.google.com/github/Ferrariagustinpablo/Statistic-related/blob/main/Data_Camp_Case_Study_Earthquakes_and_oil_mining_in_Oklahoma.ipynb\" target=\"_parent\"><img src=\"https://colab.research.google.com/assets/colab-badge.svg\" alt=\"Open In Colab\"/></a>"
      ]
    },
    {
      "cell_type": "markdown",
      "metadata": {
        "id": "INHpnQ6izHfP"
      },
      "source": [
        "# Importing libraries and dataset"
      ]
    },
    {
      "cell_type": "code",
      "metadata": {
        "colab": {
          "base_uri": "https://localhost:8080/"
        },
        "id": "7f--R_eSyj0r",
        "outputId": "1061366a-d3ed-4c1e-fcc9-8e0012da10d9"
      },
      "source": [
        "import pandas as pd\r\n",
        "import numpy as np\r\n",
        "import matplotlib.pyplot as plt\r\n",
        "import seaborn as sns\r\n",
        "plt.style.use('ggplot')\r\n",
        "import datetime as dt\r\n",
        "import missingno as msno\r\n",
        "!pip install dc_stat_think\r\n",
        "import dc_stat_think as dcst"
      ],
      "execution_count": null,
      "outputs": [
        {
          "output_type": "stream",
          "text": [
            "Requirement already satisfied: dc_stat_think in /usr/local/lib/python3.6/dist-packages (1.1.1)\n"
          ],
          "name": "stdout"
        }
      ]
    },
    {
      "cell_type": "code",
      "metadata": {
        "colab": {
          "base_uri": "https://localhost:8080/",
          "height": 360
        },
        "id": "Uk3CE2zeyNQv",
        "outputId": "42b8b3a0-004c-497d-a4a4-aa6f9779ae46"
      },
      "source": [
        "# Import dataset\r\n",
        "link = 'https://assets.datacamp.com/production/repositories/1067/datasets/c12865c9df2b6e63a40a53eaeee7caffb6cf87ac/oklahoma_earthquakes_1950-2017.csv'\r\n",
        "earthq = pd.read_csv(link, skiprows=2, parse_dates=['time'])\r\n",
        "\r\n",
        "# Display shape and head\r\n",
        "print(earthq.shape)\r\n",
        "earthq.head()"
      ],
      "execution_count": null,
      "outputs": [
        {
          "output_type": "stream",
          "text": [
            "(8978, 26)\n"
          ],
          "name": "stdout"
        },
        {
          "output_type": "execute_result",
          "data": {
            "text/html": [
              "<div>\n",
              "<style scoped>\n",
              "    .dataframe tbody tr th:only-of-type {\n",
              "        vertical-align: middle;\n",
              "    }\n",
              "\n",
              "    .dataframe tbody tr th {\n",
              "        vertical-align: top;\n",
              "    }\n",
              "\n",
              "    .dataframe thead th {\n",
              "        text-align: right;\n",
              "    }\n",
              "</style>\n",
              "<table border=\"1\" class=\"dataframe\">\n",
              "  <thead>\n",
              "    <tr style=\"text-align: right;\">\n",
              "      <th></th>\n",
              "      <th>time</th>\n",
              "      <th>latitude</th>\n",
              "      <th>longitude</th>\n",
              "      <th>depth</th>\n",
              "      <th>mag</th>\n",
              "      <th>magType</th>\n",
              "      <th>nst</th>\n",
              "      <th>gap</th>\n",
              "      <th>dmin</th>\n",
              "      <th>rms</th>\n",
              "      <th>net</th>\n",
              "      <th>id</th>\n",
              "      <th>updated</th>\n",
              "      <th>place</th>\n",
              "      <th>type</th>\n",
              "      <th>horizontalError</th>\n",
              "      <th>depthError</th>\n",
              "      <th>magError</th>\n",
              "      <th>magNst</th>\n",
              "      <th>status</th>\n",
              "      <th>locationSource</th>\n",
              "      <th>magSource</th>\n",
              "      <th>loc_name</th>\n",
              "      <th>loc_admin1</th>\n",
              "      <th>loc_admin2</th>\n",
              "      <th>loc_cc</th>\n",
              "    </tr>\n",
              "  </thead>\n",
              "  <tbody>\n",
              "    <tr>\n",
              "      <th>0</th>\n",
              "      <td>1974-12-16 02:30:21.400</td>\n",
              "      <td>35.330</td>\n",
              "      <td>-97.480</td>\n",
              "      <td>10.0</td>\n",
              "      <td>2.6</td>\n",
              "      <td>ml</td>\n",
              "      <td>NaN</td>\n",
              "      <td>NaN</td>\n",
              "      <td>NaN</td>\n",
              "      <td>NaN</td>\n",
              "      <td>us</td>\n",
              "      <td>usp000094v</td>\n",
              "      <td>2014-11-06T23:21:27.851Z</td>\n",
              "      <td>Oklahoma City urban area, Oklahoma</td>\n",
              "      <td>earthquake</td>\n",
              "      <td>NaN</td>\n",
              "      <td>NaN</td>\n",
              "      <td>NaN</td>\n",
              "      <td>NaN</td>\n",
              "      <td>reviewed</td>\n",
              "      <td>m</td>\n",
              "      <td>tul</td>\n",
              "      <td>Moore</td>\n",
              "      <td>Oklahoma</td>\n",
              "      <td>Cleveland County</td>\n",
              "      <td>US</td>\n",
              "    </tr>\n",
              "    <tr>\n",
              "      <th>1</th>\n",
              "      <td>1975-09-13 01:25:02.800</td>\n",
              "      <td>34.139</td>\n",
              "      <td>-97.369</td>\n",
              "      <td>5.0</td>\n",
              "      <td>3.4</td>\n",
              "      <td>lg</td>\n",
              "      <td>NaN</td>\n",
              "      <td>NaN</td>\n",
              "      <td>NaN</td>\n",
              "      <td>NaN</td>\n",
              "      <td>us</td>\n",
              "      <td>usp0000csk</td>\n",
              "      <td>2014-11-06T23:21:31.918Z</td>\n",
              "      <td>Oklahoma</td>\n",
              "      <td>earthquake</td>\n",
              "      <td>NaN</td>\n",
              "      <td>NaN</td>\n",
              "      <td>NaN</td>\n",
              "      <td>NaN</td>\n",
              "      <td>reviewed</td>\n",
              "      <td>us</td>\n",
              "      <td>tul</td>\n",
              "      <td>Wilson</td>\n",
              "      <td>Oklahoma</td>\n",
              "      <td>Carter County</td>\n",
              "      <td>US</td>\n",
              "    </tr>\n",
              "    <tr>\n",
              "      <th>2</th>\n",
              "      <td>1975-10-12 02:58:11.200</td>\n",
              "      <td>34.816</td>\n",
              "      <td>-97.406</td>\n",
              "      <td>20.0</td>\n",
              "      <td>3.2</td>\n",
              "      <td>lg</td>\n",
              "      <td>NaN</td>\n",
              "      <td>NaN</td>\n",
              "      <td>NaN</td>\n",
              "      <td>NaN</td>\n",
              "      <td>us</td>\n",
              "      <td>usp0000d4a</td>\n",
              "      <td>2014-11-06T23:21:32.248Z</td>\n",
              "      <td>Oklahoma</td>\n",
              "      <td>earthquake</td>\n",
              "      <td>NaN</td>\n",
              "      <td>NaN</td>\n",
              "      <td>NaN</td>\n",
              "      <td>NaN</td>\n",
              "      <td>reviewed</td>\n",
              "      <td>us</td>\n",
              "      <td>tul</td>\n",
              "      <td>Maysville</td>\n",
              "      <td>Oklahoma</td>\n",
              "      <td>Garvin County</td>\n",
              "      <td>US</td>\n",
              "    </tr>\n",
              "    <tr>\n",
              "      <th>3</th>\n",
              "      <td>1975-11-29 14:29:40.900</td>\n",
              "      <td>34.521</td>\n",
              "      <td>-97.347</td>\n",
              "      <td>5.0</td>\n",
              "      <td>3.5</td>\n",
              "      <td>lg</td>\n",
              "      <td>NaN</td>\n",
              "      <td>NaN</td>\n",
              "      <td>NaN</td>\n",
              "      <td>NaN</td>\n",
              "      <td>us</td>\n",
              "      <td>usp0000dsb</td>\n",
              "      <td>2014-11-06T23:21:32.839Z</td>\n",
              "      <td>Oklahoma</td>\n",
              "      <td>earthquake</td>\n",
              "      <td>NaN</td>\n",
              "      <td>NaN</td>\n",
              "      <td>NaN</td>\n",
              "      <td>NaN</td>\n",
              "      <td>reviewed</td>\n",
              "      <td>us</td>\n",
              "      <td>slm</td>\n",
              "      <td>Wynnewood</td>\n",
              "      <td>Oklahoma</td>\n",
              "      <td>Garvin County</td>\n",
              "      <td>US</td>\n",
              "    </tr>\n",
              "    <tr>\n",
              "      <th>4</th>\n",
              "      <td>1976-04-16 18:59:44.200</td>\n",
              "      <td>36.107</td>\n",
              "      <td>-99.875</td>\n",
              "      <td>5.0</td>\n",
              "      <td>3.4</td>\n",
              "      <td>NaN</td>\n",
              "      <td>NaN</td>\n",
              "      <td>NaN</td>\n",
              "      <td>NaN</td>\n",
              "      <td>NaN</td>\n",
              "      <td>us</td>\n",
              "      <td>usp0000fwz</td>\n",
              "      <td>2014-11-06T23:21:34.833Z</td>\n",
              "      <td>Oklahoma</td>\n",
              "      <td>earthquake</td>\n",
              "      <td>NaN</td>\n",
              "      <td>NaN</td>\n",
              "      <td>NaN</td>\n",
              "      <td>NaN</td>\n",
              "      <td>reviewed</td>\n",
              "      <td>us</td>\n",
              "      <td>tul</td>\n",
              "      <td>Arnett</td>\n",
              "      <td>Oklahoma</td>\n",
              "      <td>Ellis County</td>\n",
              "      <td>US</td>\n",
              "    </tr>\n",
              "  </tbody>\n",
              "</table>\n",
              "</div>"
            ],
            "text/plain": [
              "                     time  latitude  ...        loc_admin2  loc_cc\n",
              "0 1974-12-16 02:30:21.400    35.330  ...  Cleveland County      US\n",
              "1 1975-09-13 01:25:02.800    34.139  ...     Carter County      US\n",
              "2 1975-10-12 02:58:11.200    34.816  ...     Garvin County      US\n",
              "3 1975-11-29 14:29:40.900    34.521  ...     Garvin County      US\n",
              "4 1976-04-16 18:59:44.200    36.107  ...      Ellis County      US\n",
              "\n",
              "[5 rows x 26 columns]"
            ]
          },
          "metadata": {
            "tags": []
          },
          "execution_count": 8
        }
      ]
    },
    {
      "cell_type": "markdown",
      "metadata": {
        "id": "gAaWdAEIzB1K"
      },
      "source": [
        "# Handling Null values"
      ]
    },
    {
      "cell_type": "code",
      "metadata": {
        "colab": {
          "base_uri": "https://localhost:8080/",
          "height": 777
        },
        "id": "6RX6kuN4zBe1",
        "outputId": "b4a24790-cf80-45fb-fbf4-c1cb61af8f1e"
      },
      "source": [
        "# Are NaNs in dataset?\r\n",
        "display(earthq.isna().sum())\r\n",
        "print(earthq.shape)\r\n",
        "\r\n",
        "# Visualize missingness matrix\r\n",
        "msno.matrix(earthq)\r\n",
        "plt.show()"
      ],
      "execution_count": null,
      "outputs": [
        {
          "output_type": "display_data",
          "data": {
            "text/plain": [
              "time                  0\n",
              "latitude              0\n",
              "longitude             0\n",
              "depth                 0\n",
              "mag                   0\n",
              "magType               8\n",
              "nst                8256\n",
              "gap                 850\n",
              "dmin               8062\n",
              "rms                 660\n",
              "net                   0\n",
              "id                    0\n",
              "updated               0\n",
              "place                 0\n",
              "type                  0\n",
              "horizontalError    2010\n",
              "depthError          788\n",
              "magError           7772\n",
              "magNst             7634\n",
              "status                0\n",
              "locationSource        0\n",
              "magSource             0\n",
              "loc_name              0\n",
              "loc_admin1            0\n",
              "loc_admin2            0\n",
              "loc_cc                0\n",
              "dtype: int64"
            ]
          },
          "metadata": {
            "tags": []
          }
        },
        {
          "output_type": "stream",
          "text": [
            "(8978, 26)\n"
          ],
          "name": "stdout"
        },
        {
          "output_type": "display_data",
          "data": {
            "image/png": "[encoded data removed]",
            "text/plain": [
              "<Figure size 1800x720 with 2 Axes>"
            ]
          },
          "metadata": {
            "tags": []
          }
        }
      ]
    },
    {
      "cell_type": "markdown",
      "metadata": {
        "id": "Juzm7Ejhzhuz"
      },
      "source": [
        "For now magnitude and time are the only features to work with the dataset. No null values appear in those."
      ]
    },
    {
      "cell_type": "markdown",
      "metadata": {
        "id": "xmhVtDCkkGCK"
      },
      "source": [
        "# Did earthquake frequency change in Oklahoma?"
      ]
    },
    {
      "cell_type": "markdown",
      "metadata": {
        "id": "mPuCwDlgzt9v"
      },
      "source": [
        "## 1) EDA: Plotting earthquakes over time"
      ]
    },
    {
      "cell_type": "code",
      "metadata": {
        "colab": {
          "base_uri": "https://localhost:8080/"
        },
        "id": "v7qB-t5Vz-ny",
        "outputId": "77362b29-aef4-49ab-f1d9-b9517a0df1d8"
      },
      "source": [
        "# Change format of datetime column 'time': 'YYYY/MM/DD'\r\n",
        "new_format = \"%Y/%m/%d\"\r\n",
        "earthq.time = earthq.time.dt.strftime(new_format)\r\n",
        "\r\n",
        "# Transform time column into index\r\n",
        "earthq.set_index(earthq.time, inplace=True, drop=True)\r\n",
        "earthq.index = pd.to_datetime(earthq.index)\r\n",
        "\r\n",
        "#Filter earthquakes after year 1980\r\n",
        "mags = earthq[earthq.index >= '1980/01/01']['mag']\r\n",
        "mags"
      ],
      "execution_count": null,
      "outputs": [
        {
          "output_type": "execute_result",
          "data": {
            "text/plain": [
              "time\n",
              "1980-11-02    3.0\n",
              "1981-07-11    3.5\n",
              "1982-05-03    3.0\n",
              "1983-03-11    2.7\n",
              "1984-01-06    2.6\n",
              "             ... \n",
              "2017-07-17    3.2\n",
              "2017-07-17    3.3\n",
              "2017-07-18    3.6\n",
              "2017-07-18    2.6\n",
              "2017-07-18    3.0\n",
              "Name: mag, Length: 8970, dtype: float64"
            ]
          },
          "metadata": {
            "tags": []
          },
          "execution_count": 9
        }
      ]
    },
    {
      "cell_type": "code",
      "metadata": {
        "colab": {
          "base_uri": "https://localhost:8080/",
          "height": 283
        },
        "id": "gIxW0S9fzwiL",
        "outputId": "7cfca574-cf58-4541-d19d-60976b853df0"
      },
      "source": [
        "# Make a scatterplot\r\n",
        "sns.scatterplot(x=mags.index, y=mags, alpha=0.2)\r\n",
        "plt.axvline(dt.datetime(2010, 1, 1))\r\n",
        "plt.show()"
      ],
      "execution_count": null,
      "outputs": [
        {
          "output_type": "display_data",
          "data": {
            "image/png": "[encoded data removed]",
            "text/plain": [
              "<Figure size 432x288 with 1 Axes>"
            ]
          },
          "metadata": {
            "tags": []
          }
        }
      ]
    },
    {
      "cell_type": "markdown",
      "metadata": {
        "id": "PVlg0stZwpBa"
      },
      "source": [
        "## 2) Estimates of the mean interearthquake times\r\n",
        "\r\n",
        "The graphical EDA in the last exercise shows an obvious change in earthquake frequency around 2010."
      ]
    },
    {
      "cell_type": "markdown",
      "metadata": {
        "id": "-P_fB6ebww2I"
      },
      "source": [
        "To compare, compute the mean time between earthquakes of magnitude 3 and larger from 1980 through 2009 and also from 2010 through mid-2017. Also include 95% confidence intervals of the mean."
      ]
    },
    {
      "cell_type": "code",
      "metadata": {
        "colab": {
          "base_uri": "https://localhost:8080/",
          "height": 264
        },
        "id": "WNUPa_twxnU0",
        "outputId": "d3991bf0-6334-405c-d3cb-d257f642358b"
      },
      "source": [
        "# Change object columns to datetime:\r\n",
        "earthq['time'] = pd.to_datetime(earthq['time'])\r\n",
        "\r\n",
        "# Compute time between events\r\n",
        "earthq['time between earthq'] = pd.to_datetime(earthq.time.shift(1)) \r\n",
        "earthq['time between earthq'] = (earthq.time - pd.to_datetime(earthq['time between earthq'])).dt.days\r\n",
        "earthq.head(2)"
      ],
      "execution_count": null,
      "outputs": [
        {
          "output_type": "execute_result",
          "data": {
            "text/html": [
              "<div>\n",
              "<style scoped>\n",
              "    .dataframe tbody tr th:only-of-type {\n",
              "        vertical-align: middle;\n",
              "    }\n",
              "\n",
              "    .dataframe tbody tr th {\n",
              "        vertical-align: top;\n",
              "    }\n",
              "\n",
              "    .dataframe thead th {\n",
              "        text-align: right;\n",
              "    }\n",
              "</style>\n",
              "<table border=\"1\" class=\"dataframe\">\n",
              "  <thead>\n",
              "    <tr style=\"text-align: right;\">\n",
              "      <th></th>\n",
              "      <th>time</th>\n",
              "      <th>latitude</th>\n",
              "      <th>longitude</th>\n",
              "      <th>depth</th>\n",
              "      <th>mag</th>\n",
              "      <th>magType</th>\n",
              "      <th>nst</th>\n",
              "      <th>gap</th>\n",
              "      <th>dmin</th>\n",
              "      <th>rms</th>\n",
              "      <th>net</th>\n",
              "      <th>id</th>\n",
              "      <th>updated</th>\n",
              "      <th>place</th>\n",
              "      <th>type</th>\n",
              "      <th>horizontalError</th>\n",
              "      <th>depthError</th>\n",
              "      <th>magError</th>\n",
              "      <th>magNst</th>\n",
              "      <th>status</th>\n",
              "      <th>locationSource</th>\n",
              "      <th>magSource</th>\n",
              "      <th>loc_name</th>\n",
              "      <th>loc_admin1</th>\n",
              "      <th>loc_admin2</th>\n",
              "      <th>loc_cc</th>\n",
              "      <th>time between earthq</th>\n",
              "    </tr>\n",
              "    <tr>\n",
              "      <th>time</th>\n",
              "      <th></th>\n",
              "      <th></th>\n",
              "      <th></th>\n",
              "      <th></th>\n",
              "      <th></th>\n",
              "      <th></th>\n",
              "      <th></th>\n",
              "      <th></th>\n",
              "      <th></th>\n",
              "      <th></th>\n",
              "      <th></th>\n",
              "      <th></th>\n",
              "      <th></th>\n",
              "      <th></th>\n",
              "      <th></th>\n",
              "      <th></th>\n",
              "      <th></th>\n",
              "      <th></th>\n",
              "      <th></th>\n",
              "      <th></th>\n",
              "      <th></th>\n",
              "      <th></th>\n",
              "      <th></th>\n",
              "      <th></th>\n",
              "      <th></th>\n",
              "      <th></th>\n",
              "      <th></th>\n",
              "    </tr>\n",
              "  </thead>\n",
              "  <tbody>\n",
              "    <tr>\n",
              "      <th>1974-12-16</th>\n",
              "      <td>1974-12-16</td>\n",
              "      <td>35.330</td>\n",
              "      <td>-97.480</td>\n",
              "      <td>10.0</td>\n",
              "      <td>2.6</td>\n",
              "      <td>ml</td>\n",
              "      <td>NaN</td>\n",
              "      <td>NaN</td>\n",
              "      <td>NaN</td>\n",
              "      <td>NaN</td>\n",
              "      <td>us</td>\n",
              "      <td>usp000094v</td>\n",
              "      <td>2014-11-06T23:21:27.851Z</td>\n",
              "      <td>Oklahoma City urban area, Oklahoma</td>\n",
              "      <td>earthquake</td>\n",
              "      <td>NaN</td>\n",
              "      <td>NaN</td>\n",
              "      <td>NaN</td>\n",
              "      <td>NaN</td>\n",
              "      <td>reviewed</td>\n",
              "      <td>m</td>\n",
              "      <td>tul</td>\n",
              "      <td>Moore</td>\n",
              "      <td>Oklahoma</td>\n",
              "      <td>Cleveland County</td>\n",
              "      <td>US</td>\n",
              "      <td>NaN</td>\n",
              "    </tr>\n",
              "    <tr>\n",
              "      <th>1975-09-13</th>\n",
              "      <td>1975-09-13</td>\n",
              "      <td>34.139</td>\n",
              "      <td>-97.369</td>\n",
              "      <td>5.0</td>\n",
              "      <td>3.4</td>\n",
              "      <td>lg</td>\n",
              "      <td>NaN</td>\n",
              "      <td>NaN</td>\n",
              "      <td>NaN</td>\n",
              "      <td>NaN</td>\n",
              "      <td>us</td>\n",
              "      <td>usp0000csk</td>\n",
              "      <td>2014-11-06T23:21:31.918Z</td>\n",
              "      <td>Oklahoma</td>\n",
              "      <td>earthquake</td>\n",
              "      <td>NaN</td>\n",
              "      <td>NaN</td>\n",
              "      <td>NaN</td>\n",
              "      <td>NaN</td>\n",
              "      <td>reviewed</td>\n",
              "      <td>us</td>\n",
              "      <td>tul</td>\n",
              "      <td>Wilson</td>\n",
              "      <td>Oklahoma</td>\n",
              "      <td>Carter County</td>\n",
              "      <td>US</td>\n",
              "      <td>271.0</td>\n",
              "    </tr>\n",
              "  </tbody>\n",
              "</table>\n",
              "</div>"
            ],
            "text/plain": [
              "                 time  latitude  ...  loc_cc  time between earthq\n",
              "time                             ...                             \n",
              "1974-12-16 1974-12-16    35.330  ...      US                  NaN\n",
              "1975-09-13 1975-09-13    34.139  ...      US                271.0\n",
              "\n",
              "[2 rows x 27 columns]"
            ]
          },
          "metadata": {
            "tags": []
          },
          "execution_count": 11
        }
      ]
    },
    {
      "cell_type": "code",
      "metadata": {
        "colab": {
          "base_uri": "https://localhost:8080/"
        },
        "id": "6aWex6ygwxRw",
        "outputId": "0db11678-19cd-4ff1-b01c-5f3eb73e7e3b"
      },
      "source": [
        "dt_pre = earthq[earthq.index <= '2009/12/31']['time between earthq']\r\n",
        "dt_post = earthq[earthq.index > '2009/12/31']['time between earthq']\r\n",
        "\r\n",
        "# Compute mean interearthquake time\r\n",
        "mean_dt_pre = np.mean(dt_pre)\r\n",
        "mean_dt_post = np.mean(dt_post)\r\n",
        "\r\n",
        "# Draw 10,000 bootstrap replicates of the mean\r\n",
        "bs_reps_pre = dcst.draw_bs_reps(dt_pre, np.mean, size=10000)\r\n",
        "bs_reps_post = dcst.draw_bs_reps(dt_post, np.mean, size=10000)\r\n",
        "\r\n",
        "# Compute the confidence interval\r\n",
        "conf_int_pre = np.percentile(bs_reps_pre, [2.5, 97.5])\r\n",
        "conf_int_post = np.percentile(bs_reps_post, [2.5, 97.5])\r\n",
        "\r\n",
        "# Print the results\r\n",
        "print(\"\"\"1980 through 2009\r\n",
        "mean time gap: {0:} days\r\n",
        "95% conf int: [{1:}] days\"\"\".format(mean_dt_pre, conf_int_pre))\r\n",
        "\r\n",
        "print(\"\"\"\r\n",
        "2010 through mid-2017\r\n",
        "mean time gap: {0:} days\r\n",
        "95% conf int: [{1:}] days\"\"\".format(mean_dt_post, conf_int_post))"
      ],
      "execution_count": null,
      "outputs": [
        {
          "output_type": "stream",
          "text": [
            "1980 through 2009\n",
            "mean time gap: 60.367924528301884 days\n",
            "95% conf int: [[45.49516509 78.14186321]] days\n",
            "\n",
            "2010 through mid-2017\n",
            "mean time gap: 0.3145464917284655 days\n",
            "95% conf int: [[0.29207074 0.33896178]] days\n"
          ],
          "name": "stdout"
        }
      ]
    },
    {
      "cell_type": "markdown",
      "metadata": {
        "id": "qzIwCv7szo3h"
      },
      "source": [
        "Mean earthquake time seems to have changed by a large amount after the year 2010. We can draw Hypothesis test of mean to just be certain of the change. \r\n",
        "\r\n"
      ]
    },
    {
      "cell_type": "markdown",
      "metadata": {
        "id": "LkwGoL6u0Ioi"
      },
      "source": [
        "## 3) Hypothesis test: did earthquake frequency change?"
      ]
    },
    {
      "cell_type": "markdown",
      "metadata": {
        "id": "gp5owq1j0a5Y"
      },
      "source": [
        "Hypothesis test: The mean time between earquake events are the same in both periods."
      ]
    },
    {
      "cell_type": "code",
      "metadata": {
        "colab": {
          "base_uri": "https://localhost:8080/"
        },
        "id": "s8RMzN2s0Nw5",
        "outputId": "8cdcbac4-12c9-49d6-98d6-2f07c8ea8918"
      },
      "source": [
        "# Compute the observed test statistic\r\n",
        "mean_dt_diff = mean_dt_pre - mean_dt_post\r\n",
        "\r\n",
        "# Shift the post-2010 data to have the same mean as the pre-2010 data\r\n",
        "dt_post_shift = dt_post - mean_dt_post + mean_dt_pre\r\n",
        "\r\n",
        "# Compute 10,000 bootstrap replicates from arrays\r\n",
        "bs_reps_pre = dcst.draw_bs_reps(dt_pre, np.mean, size=10000)\r\n",
        "bs_reps_post = dcst.draw_bs_reps(dt_post_shift, np.mean, size=10000)\r\n",
        "\r\n",
        "# Get replicates of difference of means\r\n",
        "bs_reps = bs_reps_pre - bs_reps_post\r\n",
        "\r\n",
        "# Compute and print the p-value\r\n",
        "p_val = np.sum(bs_reps >= mean_dt_diff) / 10000\r\n",
        "print('p =', p_val)"
      ],
      "execution_count": null,
      "outputs": [
        {
          "output_type": "stream",
          "text": [
            "p = 0.0\n"
          ],
          "name": "stdout"
        }
      ]
    },
    {
      "cell_type": "markdown",
      "metadata": {
        "id": "lg4-xAQd2Sef"
      },
      "source": [
        "The p-value is 0. In 10,000 samples, not one had a test statistic greater than or equal to the one it was observed. "
      ]
    },
    {
      "cell_type": "markdown",
      "metadata": {
        "id": "za_g42Xdj2lI"
      },
      "source": [
        "# Did Magnitudes of events changed after 2010?. "
      ]
    },
    {
      "cell_type": "markdown",
      "metadata": {
        "id": "mf-L6jhGj9vn"
      },
      "source": [
        "## 1) EDA: Comparing magnitudes before and after 2010 with ECDF"
      ]
    },
    {
      "cell_type": "code",
      "metadata": {
        "colab": {
          "base_uri": "https://localhost:8080/",
          "height": 282
        },
        "id": "A8cCmbaFjD1f",
        "outputId": "a8bd13c1-7654-4e2f-e972-f0c541bf93a8"
      },
      "source": [
        "# Get magnitudes before and after 2010\r\n",
        "mags_pre = earthq[earthq.index <= '2009/12/31']['mag']\r\n",
        "mags_post = earthq[earthq.index > '2009/12/31']['mag']\r\n",
        "\r\n",
        "# Generate ECDFs\r\n",
        "plt.plot(*dcst.ecdf(mags_pre), marker='.', linestyle='none')\r\n",
        "plt.plot(*dcst.ecdf(mags_post), marker='.', linestyle='none')\r\n",
        "\r\n",
        "# Label axes and show plot\r\n",
        "plt.xlabel('magnitude')\r\n",
        "plt.ylabel('ECDF')\r\n",
        "plt.legend(('1980 though 2009', '2010 through mid-2017'), loc='upper left')\r\n",
        "plt.show()"
      ],
      "execution_count": null,
      "outputs": [
        {
          "output_type": "display_data",
          "data": {
            "image/png": "[encoded data removed]",
            "text/plain": [
              "<Figure size 432x288 with 1 Axes>"
            ]
          },
          "metadata": {
            "tags": []
          }
        }
      ]
    },
    {
      "cell_type": "markdown",
      "metadata": {
        "id": "2-zMaRlflaYX"
      },
      "source": [
        "Both curves seem to follow the Gutenberg-Richter Law, but with different completeness thresholds, probably due to improvements in sensing capabilities in more recent years."
      ]
    },
    {
      "cell_type": "markdown",
      "metadata": {
        "id": "DqTxgU8DmTgg"
      },
      "source": [
        "The b-value is a common metric for the seismicity of a region. It represents the the magnitude–frequency distribution of earthquakes.\r\n",
        "\r\n",
        "Computing b-values is really common when working with earthquake data, this is why is better to have a function."
      ]
    },
    {
      "cell_type": "markdown",
      "metadata": {
        "id": "67fWwrtJmU6O"
      },
      "source": [
        "## 2) Computing b-value CI and b-value function"
      ]
    },
    {
      "cell_type": "code",
      "metadata": {
        "id": "_s6UGnZ7mYKk"
      },
      "source": [
        "def b_value(mags, mt, perc=[2.5, 97.5], n_reps=None):\r\n",
        "    \"\"\"Compute the b-value and optionally its confidence interval.\"\"\"\r\n",
        "    # Extract magnitudes above completeness threshold: m\r\n",
        "    m = mags[mags >= mt]\r\n",
        "\r\n",
        "    # Compute b-value: b\r\n",
        "    b = (np.mean(m) - mt) * np.log(10)\r\n",
        "\r\n",
        "    # Draw bootstrap replicates\r\n",
        "    if n_reps is None:\r\n",
        "        return b\r\n",
        "    else:\r\n",
        "        m_bs_reps = dcst.draw_bs_reps(m, np.mean, size=n_reps)\r\n",
        "\r\n",
        "        # Compute b-value from replicates: b_bs_reps\r\n",
        "        b_bs_reps = (m_bs_reps - mt) * np.log(10)\r\n",
        "\r\n",
        "        # Compute confidence interval: conf_int\r\n",
        "        conf_int = np.percentile(b_bs_reps, perc)\r\n",
        "    \r\n",
        "        return b, conf_int"
      ],
      "execution_count": null,
      "outputs": []
    },
    {
      "cell_type": "markdown",
      "metadata": {
        "id": "F9enZsfImnTb"
      },
      "source": [
        "We are going to use a completeness threshold of mt = 3.\r\n",
        "\r\n",
        "Using this threshold, compute b-values for the period between 1980 and 2009 and for 2010 through mid-2017"
      ]
    },
    {
      "cell_type": "code",
      "metadata": {
        "colab": {
          "base_uri": "https://localhost:8080/"
        },
        "id": "LlVc_FulmnEA",
        "outputId": "488d20ac-bc7f-49b3-e86c-58fabcfc4223"
      },
      "source": [
        "mt = 3\r\n",
        "\r\n",
        "# Compute b-value and confidence interval for pre-2010\r\n",
        "b_pre, conf_int_pre = b_value(mags_pre, mt, perc=[2.5, 97.5], n_reps=10000)\r\n",
        "\r\n",
        "# Compute b-value and confidence interval for post-2010\r\n",
        "b_post, conf_int_post = b_value(mags_post, mt, perc=[2.5, 97.5], n_reps=10000)\r\n",
        "\r\n",
        "# Report the results\r\n",
        "print(\"\"\"\r\n",
        "1980 through 2009\r\n",
        "b-value: {0:.2f}\r\n",
        "95% conf int: [{1:.2f}, {2:.2f}]\r\n",
        "\r\n",
        "2010 through mid-2017\r\n",
        "b-value: {3:.2f}\r\n",
        "95% conf int: [{4:.2f}, {5:.2f}]\r\n",
        "\"\"\".format(b_pre, *conf_int_pre, b_post, *conf_int_post))\r\n"
      ],
      "execution_count": null,
      "outputs": [
        {
          "output_type": "stream",
          "text": [
            "\n",
            "1980 through 2009\n",
            "b-value: 0.75\n",
            "95% conf int: [0.56, 0.95]\n",
            "\n",
            "2010 through mid-2017\n",
            "b-value: 0.62\n",
            "95% conf int: [0.60, 0.65]\n",
            "\n"
          ],
          "name": "stdout"
        }
      ]
    },
    {
      "cell_type": "markdown",
      "metadata": {
        "id": "U5qPF7ZvoLBh"
      },
      "source": [
        "- b-value CI is tighter than before but that can be due to the large amount of data we have after 2010.\r\n",
        "\r\n",
        "- Both b-value confidence intervals overlap this means the b-value of the region may have not changed. We will  perform hypothesis test anyways if this results would happend if b-values where the same. b-values assumes Gutenberg-Richter law holds, this means the distribution function, and permutation test is needed to test the hypothesis."
      ]
    },
    {
      "cell_type": "markdown",
      "metadata": {
        "id": "VMbBziS5skCC"
      },
      "source": [
        "## 3) Hypothesis test: are the b-values different?"
      ]
    },
    {
      "cell_type": "code",
      "metadata": {
        "colab": {
          "base_uri": "https://localhost:8080/"
        },
        "id": "PrdMSjytoGGb",
        "outputId": "11f02b47-d55a-4d2b-cd13-f99c2620f070"
      },
      "source": [
        "# Only magnitudes above completeness threshold\r\n",
        "mags_pre = mags_pre[mags_pre >= mt]\r\n",
        "mags_post = mags_post[mags_post >= mt]\r\n",
        "\r\n",
        "# Observed difference in mean magnitudes: diff_obs\r\n",
        "diff_obs = np.mean(mags_post) - np.mean(mags_pre)\r\n",
        "\r\n",
        "# Generate permutation replicates: perm_reps\r\n",
        "perm_reps = dcst.draw_perm_reps(mags_post, mags_pre, dcst.diff_of_means, size=10000)\r\n",
        "\r\n",
        "# Compute and print p-value\r\n",
        "p_val = np.sum(perm_reps < diff_obs) / 10000\r\n",
        "print('p =', p_val)"
      ],
      "execution_count": null,
      "outputs": [
        {
          "output_type": "stream",
          "text": [
            "p = 0.0821\n"
          ],
          "name": "stdout"
        }
      ]
    },
    {
      "cell_type": "markdown",
      "metadata": {
        "id": "jM8g4vKB26S5"
      },
      "source": [
        "A P-value as high as 0.08 means that 8% of bootstrap examples had the same or higher mean difference that the one it was observed. Because of this, we cannot discard the null hypothesis (the distribution function could be the same in both periods.)"
      ]
    }
  ]
}